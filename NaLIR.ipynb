{
 "cells": [
  {
   "cell_type": "markdown",
   "metadata": {
    "ExecuteTime": {
     "end_time": "2020-09-25T23:09:25.518921Z",
     "start_time": "2020-09-25T23:09:24.833765Z"
    }
   },
   "source": [
    "# NaLIR: Python Implementation Notebook -  Tutorial SBDD 2020\n",
    "\n",
    "### Autores: Altigran da Silva, Brandell Ferreira, Lucas Citolin e Paulo Martins"
   ]
  },
  {
   "cell_type": "markdown",
   "metadata": {},
   "source": [
    "Nesse Notebook mostraremos a implementação de uma Interface de Linguage Natural para Banco de Dados. Será apresentada a arquitetura geral do Sistema, e para cada módulo, será listado o que recebem como entrada, e o que geram como saída. Além disso, mostraremos detalhes de implementação que são interessantes em cada módulo. Ao final, mostraremos alguns exemplos de consultas para as quais o NaLIR consegue obter uma SQL válida. É importante ressaltar que apenas portamos o código para Python, o código original em Java se encontra neste [repositório](https://github.com/umich-dbgroup/NaLIR)."
   ]
  },
  {
   "cell_type": "markdown",
   "metadata": {},
   "source": [
    "<a id='arquitetura_geral'></a>\n",
    "## Arquitetura Geral\n",
    "\n",
    "O NaLIR é uma Interface de Lingaugem Natural que utiliza uma estrutura derivada do Parser de Dependência para traduzir as consultas de linguagem natural para uma linguagem estruturada de consulta de banco de dados (SQL). Além de utilizar o Parser de Dependência, o NaLIR também utiliza interações com o usuário para corrigir possíveis erros na estrutura da árvore de Dependência e nos mapeamentos padrões escolhidos das palavras da consulta para elementos de Banco de Dados.\n",
    "\n",
    "Como podemos ver na figura Abaixo, A arquitetura do NaLIRpossui **5** Componentes: **Dependecy Parser**, **Query Node Mapper**, **Query Tree Strucutre Adjustor**, **Query Translator** e **Interative Comunicator**. O **Depency Parser** recebe  a consulta do usuário,e repassa a entrada para o parser de Dependêcia de Stanford. Após retirar gerar a Árvore de Depência, o **Query Node Mapper** é reponsável por mapear os nós da árvore de dependência para elementos da estrutura de uma SQL.\n",
    "\n",
    "Após a escolha dos mapementos, o **Interactive Communicatior** entra em ação pela primeira vez, fornecendo para o usuário os candidatos encontrados pelo **Query Node Mapper**. Após o usuário escolher os mapeamentos para cada Nó, **Query Tree structure Adjustor** executa um algoritmo para modificar a estrutura da Árvore para que a conversão para uma consulta SQL seja facilitada. Tais modificações são feitas seguindo uma gramática. A saída dessa etapa é uma lista de árvores, ordenadas por uma pontuação que indica o quão correta está a árvore e a relação entre os elementos do banco de dados que os nós referenciam.\n",
    "\n",
    "Pela Segunda vez, o **Interactive Comunicator** entra em ação, para que o usuário escolha qual árvore será escolhida pelo usuario. Após isso, **Query Tree Structure Adjustor** insere nós na árvore selecionada pelo usuário com o intuito de retirar possíveis elipses da consulta. Pela última vez **Interactive Commnunicator** mostra ao usuário as inserções feitas. Após a ação do usuário, a árvore de consulta é repassada para o **Query Tree Translator** que efetivamente converte a árvore para uma SQL válida.\n",
    "\n",
    "Na nossa implementação, **não portamos o Interactive Communicator**, assim o único fluxo possível é aquele em que o **NaLIR utiliza todos os mapeamentos padrões** para resolver a consulta.\n",
    "\n",
    "![Arquitetura Geral](imgs/OverallDiagram.png)\n",
    "\n",
    "É importante salientar que apesar de apenas quatro módulos estarem presentes na arquitetura do NaLIR, alguns módulos auxiliares foram implementados,como o que gerencia o acesso ao Banco de Dados. Apesar deste módulo estar presente nas entrelinhas do fluxo na Arquitetura mostrada acima, foi preciso implementá-lo para que fosse possível a construção do Sistema."
   ]
  },
  {
   "cell_type": "markdown",
   "metadata": {},
   "source": [
    "## Configuração do Cliente"
   ]
  },
  {
   "cell_type": "code",
   "execution_count": 4,
   "metadata": {},
   "outputs": [],
   "source": [
    "from nalir import *"
   ]
  },
  {
   "cell_type": "markdown",
   "metadata": {},
   "source": [
    "O primeiro passo é **instanciar** o objeto de configuração responsável por carregar os arquivos requeridos para que a execução do Nalir possa ser feita. A configuração é feita a partir de um objeto JSON, cujo as propriedades devem ser:\n",
    "\n",
    "| Propriedade | Tipo | Descrição |\n",
    "| :-- | :-: | :-- | \n",
    "| `connection` | Object | Armazena as configurações de conexão com o Banco de dados |\n",
    "| `connection.host`|  String | Host para a conexão com o Banco de Dados |\n",
    "| `connection.password`| String | Senha para conectar com o Banco de Dados |\n",
    "| `connection.user` | String | Usuario de Banco de Dados|\n",
    "| `connection.database` | String | Nome do Banco de Dados utilizado |\n",
    "| `logginMode` | String | Nivel de Login da Aplicação|\n",
    "| `zfiles_path`| String | Diretório onde se encontra os arquivos de configuração do NaLIR|\n",
    "| `jars_path` | String | Diretório onde se encontra os jars necessários para a execução do NaLIR |"
   ]
  },
  {
   "cell_type": "code",
   "execution_count": 5,
   "metadata": {
    "ExecuteTime": {
     "end_time": "2020-09-25T23:09:25.524674Z",
     "start_time": "2020-09-25T23:09:25.520353Z"
    }
   },
   "outputs": [],
   "source": [
    "config_json_text = '''{\n",
    "    \"connection\":{\n",
    "        \"host\": \"localhost\",\n",
    "        \"password\":\"desenvolvimento123\",\n",
    "        \"user\":\"nalir\",\n",
    "        \"database\":\"mas\"\n",
    "    },\n",
    "    \"loggingMode\": \"ERROR\",\n",
    "    \"zfiles_path\":\"/home/novello/nalir-glamorise/zfiles\",\n",
    "    \"jars_path\":\"/home/novello/nalir-glamorise/jars/new_jars\"\n",
    "}\n",
    "'''\n",
    "config = ConfigHandler(reset=True,config_json_text=config_json_text)\n",
    "#config = ConfigHandler(reset=True)"
   ]
  },
  {
   "cell_type": "markdown",
   "metadata": {},
   "source": [
    "Após colocar todas as configurações necessárias e criar o objeto, é preciso criar uma instância do módulo que gerencia o acesso ao Banco de Dados."
   ]
  },
  {
   "cell_type": "code",
   "execution_count": 6,
   "metadata": {
    "ExecuteTime": {
     "end_time": "2020-09-25T23:09:25.849306Z",
     "start_time": "2020-09-25T23:09:25.526005Z"
    }
   },
   "outputs": [],
   "source": [
    "rdbms = RDBMS(config)"
   ]
  },
  {
   "cell_type": "markdown",
   "metadata": {},
   "source": [
    "Para exemplificar passo a passo como os módulos do NaLIR interagem com a consulta, utilizaremos a consulta ''return me the authors who have a paper in VLDB conference before 2002 after 1995.''."
   ]
  },
  {
   "cell_type": "code",
   "execution_count": 7,
   "metadata": {
    "ExecuteTime": {
     "end_time": "2020-09-25T23:09:25.855589Z",
     "start_time": "2020-09-25T23:09:25.852274Z"
    }
   },
   "outputs": [],
   "source": [
    "query_line='return me the authors who have a paper in VLDB conference before 2002 after 1995.'\n",
    "query = Query(query_line,rdbms.schema_graph)"
   ]
  },
  {
   "cell_type": "markdown",
   "metadata": {},
   "source": [
    "## Stanford Dependency Parser"
   ]
  },
  {
   "cell_type": "markdown",
   "metadata": {},
   "source": [
    "Na inicialização da classe `StanfordParser` executamos 3 passos para transformar a consulta em uma árvore de dependência. Cada passo é representado por uma função no código a seguir:\n",
    "\n",
    "``` python\n",
    "     def __init__(self,query,config):\n",
    "        \n",
    "        #....\n",
    "        \n",
    "        self.parse(query)\n",
    "        self.build_tree(query)\n",
    "        self.fix_conj(query)\n",
    "        \n",
    "        #....\n",
    "```\n",
    "\n",
    "A função `parse(query)` executa o Parser de Dependência na consulta recebida, enquanto as outras `build_tree` e `fix_conj` são responsáveis por adaptar a estrutura para uma estrutura `ParseTree` definida dentro do pacote. A seguir mostramos como a função `build_tree` constrói a Árvore de Dependência a partir das dependências extraídas pelo Parser de Stanford.\n",
    "\n",
    "``` python\n",
    "    def build_tree(self,query):\n",
    "        query.parse_tree = ParseTree()\n",
    "        done_list = [False] * len(query.tree_table)\n",
    "        i = 0\n",
    "\n",
    "        for tree_table_item in query.tree_table:\n",
    "            if tree_table_item[PARENT_IDX] == 0:\n",
    "                done_list[i] = True\n",
    "                query.parse_tree.build_node(tree_table_item)\n",
    "            i+=1\n",
    "\n",
    "        finished = False\n",
    "        while not finished:\n",
    "            i = 0\n",
    "            for i in range(len(query.tree_table)):\n",
    "                if not done_list[i]:\n",
    "                    if query.parse_tree.build_node(query.tree_table[i]):\n",
    "                        done_list[i] = True\n",
    "                        break\n",
    "\n",
    "\n",
    "            finished = True\n",
    "            for done_list_item in done_list:\n",
    "                if not done_list_item:\n",
    "                    finished = False\n",
    "                    break\n",
    "\n",
    "```\n",
    "\n",
    "A tabela `query.tree_table` é criada em `parse(query)`. `fix_conj()` corrige relações de conjunção (quando duas palavras estão conectadas por \"e\" ou \"ou\"). Abaixo temos o exemplo da saída do módulo. "
   ]
  },
  {
   "cell_type": "code",
   "execution_count": 8,
   "metadata": {
    "ExecuteTime": {
     "end_time": "2020-09-25T23:09:27.104088Z",
     "start_time": "2020-09-25T23:09:25.857005Z"
    },
    "scrolled": true
   },
   "outputs": [
    {
     "output_type": "execute_result",
     "data": {
      "text/plain": [
       "(1)ROOT\n",
       "    (2)return\n",
       "        (3)me\n",
       "        (4)authors\n",
       "            (5)the\n",
       "            (6)have\n",
       "                (7)who\n",
       "                (8)paper\n",
       "                    (9)a\n",
       "                    (10)conference\n",
       "                        (11)in\n",
       "                        (12)VLDB\n",
       "                        (13)2002\n",
       "                            (14)before\n",
       "                (15)1995\n",
       "                    (16)after"
      ]
     },
     "metadata": {},
     "execution_count": 8
    }
   ],
   "source": [
    "\n",
    "StanfordParser(query,config)\n",
    "query.parse_tree"
   ]
  },
  {
   "cell_type": "markdown",
   "metadata": {},
   "source": [
    "**Nota**: O graph vizualitation possui o programa [Graphviz](https://graphviz.org/)  como dependêcia, logo ele precisa ser instalado. Verifique no site como é possível baixá-lo para seu sistema"
   ]
  },
  {
   "cell_type": "code",
   "execution_count": 9,
   "metadata": {
    "ExecuteTime": {
     "end_time": "2020-09-25T23:09:27.135015Z",
     "start_time": "2020-09-25T23:09:27.105509Z"
    }
   },
   "outputs": [
    {
     "output_type": "execute_result",
     "data": {
      "text/plain": [
       "<graphviz.dot.Digraph at 0x7f0303856040>"
      ],
      "image/svg+xml": "<?xml version=\"1.0\" encoding=\"UTF-8\" standalone=\"no\"?>\n<!DOCTYPE svg PUBLIC \"-//W3C//DTD SVG 1.1//EN\"\n \"http://www.w3.org/Graphics/SVG/1.1/DTD/svg11.dtd\">\n<!-- Generated by graphviz version 2.43.0 (0)\n -->\n<!-- Title: %3 Pages: 1 -->\n<svg width=\"204pt\" height=\"360pt\"\n viewBox=\"0.00 0.00 203.75 360.00\" xmlns=\"http://www.w3.org/2000/svg\" xmlns:xlink=\"http://www.w3.org/1999/xlink\">\n<g id=\"graph0\" class=\"graph\" transform=\"scale(1.52 1.52) rotate(0) translate(4 544)\">\n<title>%3</title>\n<polygon fill=\"white\" stroke=\"transparent\" points=\"-4,4 -4,-544 306.15,-544 306.15,4 -4,4\"/>\n<!-- 0.1 &#45; ROOT -->\n<g id=\"node1\" class=\"node\">\n<title>0.1 &#45; ROOT</title>\n<ellipse fill=\"none\" stroke=\"black\" cx=\"72\" cy=\"-522\" rx=\"38.19\" ry=\"18\"/>\n<text text-anchor=\"middle\" x=\"72\" y=\"-518.3\" font-family=\"Times,serif\" font-size=\"14.00\">ROOT</text>\n</g>\n<!-- 1 &#45; ROOT.2 &#45; return -->\n<g id=\"node2\" class=\"node\">\n<title>1 &#45; ROOT.2 &#45; return</title>\n<ellipse fill=\"none\" stroke=\"black\" cx=\"72\" cy=\"-450\" rx=\"40.09\" ry=\"18\"/>\n<text text-anchor=\"middle\" x=\"72\" y=\"-446.3\" font-family=\"Times,serif\" font-size=\"14.00\">return</text>\n</g>\n<!-- 0.1 &#45; ROOT&#45;&gt;1 &#45; ROOT.2 &#45; return -->\n<g id=\"edge1\" class=\"edge\">\n<title>0.1 &#45; ROOT&#45;&gt;1 &#45; ROOT.2 &#45; return</title>\n<path fill=\"none\" stroke=\"black\" d=\"M72,-503.7C72,-495.98 72,-486.71 72,-478.11\"/>\n<polygon fill=\"black\" stroke=\"black\" points=\"75.5,-478.1 72,-468.1 68.5,-478.1 75.5,-478.1\"/>\n</g>\n<!-- 2 &#45; return.3 &#45; me -->\n<g id=\"node3\" class=\"node\">\n<title>2 &#45; return.3 &#45; me</title>\n<ellipse fill=\"none\" stroke=\"black\" cx=\"27\" cy=\"-378\" rx=\"27\" ry=\"18\"/>\n<text text-anchor=\"middle\" x=\"27\" y=\"-374.3\" font-family=\"Times,serif\" font-size=\"14.00\">me</text>\n</g>\n<!-- 1 &#45; ROOT.2 &#45; return&#45;&gt;2 &#45; return.3 &#45; me -->\n<g id=\"edge2\" class=\"edge\">\n<title>1 &#45; ROOT.2 &#45; return&#45;&gt;2 &#45; return.3 &#45; me</title>\n<path fill=\"none\" stroke=\"black\" d=\"M61.34,-432.41C55.82,-423.83 48.98,-413.19 42.86,-403.67\"/>\n<polygon fill=\"black\" stroke=\"black\" points=\"45.63,-401.51 37.28,-394.99 39.74,-405.29 45.63,-401.51\"/>\n</g>\n<!-- 2 &#45; return.4 &#45; authors -->\n<g id=\"node4\" class=\"node\">\n<title>2 &#45; return.4 &#45; authors</title>\n<ellipse fill=\"none\" stroke=\"black\" cx=\"118\" cy=\"-378\" rx=\"46.29\" ry=\"18\"/>\n<text text-anchor=\"middle\" x=\"118\" y=\"-374.3\" font-family=\"Times,serif\" font-size=\"14.00\">authors</text>\n</g>\n<!-- 1 &#45; ROOT.2 &#45; return&#45;&gt;2 &#45; return.4 &#45; authors -->\n<g id=\"edge3\" class=\"edge\">\n<title>1 &#45; ROOT.2 &#45; return&#45;&gt;2 &#45; return.4 &#45; authors</title>\n<path fill=\"none\" stroke=\"black\" d=\"M82.9,-432.41C88.38,-424.08 95.13,-413.8 101.25,-404.49\"/>\n<polygon fill=\"black\" stroke=\"black\" points=\"104.29,-406.24 106.86,-395.96 98.44,-402.39 104.29,-406.24\"/>\n</g>\n<!-- 4 &#45; authors.5 &#45; the -->\n<g id=\"node5\" class=\"node\">\n<title>4 &#45; authors.5 &#45; the</title>\n<ellipse fill=\"none\" stroke=\"black\" cx=\"79\" cy=\"-306\" rx=\"27\" ry=\"18\"/>\n<text text-anchor=\"middle\" x=\"79\" y=\"-302.3\" font-family=\"Times,serif\" font-size=\"14.00\">the</text>\n</g>\n<!-- 2 &#45; return.4 &#45; authors&#45;&gt;4 &#45; authors.5 &#45; the -->\n<g id=\"edge4\" class=\"edge\">\n<title>2 &#45; return.4 &#45; authors&#45;&gt;4 &#45; authors.5 &#45; the</title>\n<path fill=\"none\" stroke=\"black\" d=\"M108.56,-360.05C103.89,-351.68 98.17,-341.4 93,-332.13\"/>\n<polygon fill=\"black\" stroke=\"black\" points=\"96.01,-330.34 88.09,-323.31 89.89,-333.75 96.01,-330.34\"/>\n</g>\n<!-- 4 &#45; authors.6 &#45; have -->\n<g id=\"node6\" class=\"node\">\n<title>4 &#45; authors.6 &#45; have</title>\n<ellipse fill=\"none\" stroke=\"black\" cx=\"156\" cy=\"-306\" rx=\"32.49\" ry=\"18\"/>\n<text text-anchor=\"middle\" x=\"156\" y=\"-302.3\" font-family=\"Times,serif\" font-size=\"14.00\">have</text>\n</g>\n<!-- 2 &#45; return.4 &#45; authors&#45;&gt;4 &#45; authors.6 &#45; have -->\n<g id=\"edge5\" class=\"edge\">\n<title>2 &#45; return.4 &#45; authors&#45;&gt;4 &#45; authors.6 &#45; have</title>\n<path fill=\"none\" stroke=\"black\" d=\"M127.2,-360.05C131.63,-351.89 137.05,-341.91 141.98,-332.82\"/>\n<polygon fill=\"black\" stroke=\"black\" points=\"145.19,-334.25 146.89,-323.79 139.04,-330.91 145.19,-334.25\"/>\n</g>\n<!-- 6 &#45; have.7 &#45; who -->\n<g id=\"node7\" class=\"node\">\n<title>6 &#45; have.7 &#45; who</title>\n<ellipse fill=\"none\" stroke=\"black\" cx=\"70\" cy=\"-234\" rx=\"29.8\" ry=\"18\"/>\n<text text-anchor=\"middle\" x=\"70\" y=\"-230.3\" font-family=\"Times,serif\" font-size=\"14.00\">who</text>\n</g>\n<!-- 4 &#45; authors.6 &#45; have&#45;&gt;6 &#45; have.7 &#45; who -->\n<g id=\"edge6\" class=\"edge\">\n<title>4 &#45; authors.6 &#45; have&#45;&gt;6 &#45; have.7 &#45; who</title>\n<path fill=\"none\" stroke=\"black\" d=\"M138.18,-290.5C125.79,-280.41 109.11,-266.83 95.34,-255.62\"/>\n<polygon fill=\"black\" stroke=\"black\" points=\"97.17,-252.61 87.21,-249.01 92.76,-258.04 97.17,-252.61\"/>\n</g>\n<!-- 6 &#45; have.8 &#45; paper -->\n<g id=\"node8\" class=\"node\">\n<title>6 &#45; have.8 &#45; paper</title>\n<ellipse fill=\"none\" stroke=\"black\" cx=\"156\" cy=\"-234\" rx=\"37.89\" ry=\"18\"/>\n<text text-anchor=\"middle\" x=\"156\" y=\"-230.3\" font-family=\"Times,serif\" font-size=\"14.00\">paper</text>\n</g>\n<!-- 4 &#45; authors.6 &#45; have&#45;&gt;6 &#45; have.8 &#45; paper -->\n<g id=\"edge7\" class=\"edge\">\n<title>4 &#45; authors.6 &#45; have&#45;&gt;6 &#45; have.8 &#45; paper</title>\n<path fill=\"none\" stroke=\"black\" d=\"M156,-287.7C156,-279.98 156,-270.71 156,-262.11\"/>\n<polygon fill=\"black\" stroke=\"black\" points=\"159.5,-262.1 156,-252.1 152.5,-262.1 159.5,-262.1\"/>\n</g>\n<!-- 6 &#45; have.15 &#45; 1995 -->\n<g id=\"node15\" class=\"node\">\n<title>6 &#45; have.15 &#45; 1995</title>\n<ellipse fill=\"none\" stroke=\"black\" cx=\"257\" cy=\"-234\" rx=\"34.39\" ry=\"18\"/>\n<text text-anchor=\"middle\" x=\"257\" y=\"-230.3\" font-family=\"Times,serif\" font-size=\"14.00\">1995</text>\n</g>\n<!-- 4 &#45; authors.6 &#45; have&#45;&gt;6 &#45; have.15 &#45; 1995 -->\n<g id=\"edge14\" class=\"edge\">\n<title>4 &#45; authors.6 &#45; have&#45;&gt;6 &#45; have.15 &#45; 1995</title>\n<path fill=\"none\" stroke=\"black\" d=\"M175.47,-291.5C190.51,-281.08 211.53,-266.51 228.47,-254.78\"/>\n<polygon fill=\"black\" stroke=\"black\" points=\"230.67,-257.51 236.89,-248.93 226.68,-251.75 230.67,-257.51\"/>\n</g>\n<!-- 8 &#45; paper.9 &#45; a -->\n<g id=\"node9\" class=\"node\">\n<title>8 &#45; paper.9 &#45; a</title>\n<ellipse fill=\"none\" stroke=\"black\" cx=\"49\" cy=\"-162\" rx=\"27\" ry=\"18\"/>\n<text text-anchor=\"middle\" x=\"49\" y=\"-158.3\" font-family=\"Times,serif\" font-size=\"14.00\">a</text>\n</g>\n<!-- 6 &#45; have.8 &#45; paper&#45;&gt;8 &#45; paper.9 &#45; a -->\n<g id=\"edge8\" class=\"edge\">\n<title>6 &#45; have.8 &#45; paper&#45;&gt;8 &#45; paper.9 &#45; a</title>\n<path fill=\"none\" stroke=\"black\" d=\"M134.6,-219C117.83,-208.03 94.38,-192.69 76.27,-180.84\"/>\n<polygon fill=\"black\" stroke=\"black\" points=\"78.14,-177.88 67.85,-175.33 74.3,-183.74 78.14,-177.88\"/>\n</g>\n<!-- 8 &#45; paper.10 &#45; conference -->\n<g id=\"node10\" class=\"node\">\n<title>8 &#45; paper.10 &#45; conference</title>\n<ellipse fill=\"none\" stroke=\"black\" cx=\"156\" cy=\"-162\" rx=\"61.99\" ry=\"18\"/>\n<text text-anchor=\"middle\" x=\"156\" y=\"-158.3\" font-family=\"Times,serif\" font-size=\"14.00\">conference</text>\n</g>\n<!-- 6 &#45; have.8 &#45; paper&#45;&gt;8 &#45; paper.10 &#45; conference -->\n<g id=\"edge9\" class=\"edge\">\n<title>6 &#45; have.8 &#45; paper&#45;&gt;8 &#45; paper.10 &#45; conference</title>\n<path fill=\"none\" stroke=\"black\" d=\"M156,-215.7C156,-207.98 156,-198.71 156,-190.11\"/>\n<polygon fill=\"black\" stroke=\"black\" points=\"159.5,-190.1 156,-180.1 152.5,-190.1 159.5,-190.1\"/>\n</g>\n<!-- 10 &#45; conference.11 &#45; in -->\n<g id=\"node11\" class=\"node\">\n<title>10 &#45; conference.11 &#45; in</title>\n<ellipse fill=\"none\" stroke=\"black\" cx=\"74\" cy=\"-90\" rx=\"27\" ry=\"18\"/>\n<text text-anchor=\"middle\" x=\"74\" y=\"-86.3\" font-family=\"Times,serif\" font-size=\"14.00\">in</text>\n</g>\n<!-- 8 &#45; paper.10 &#45; conference&#45;&gt;10 &#45; conference.11 &#45; in -->\n<g id=\"edge10\" class=\"edge\">\n<title>8 &#45; paper.10 &#45; conference&#45;&gt;10 &#45; conference.11 &#45; in</title>\n<path fill=\"none\" stroke=\"black\" d=\"M136.98,-144.76C125.26,-134.76 110.14,-121.85 97.65,-111.19\"/>\n<polygon fill=\"black\" stroke=\"black\" points=\"99.76,-108.39 89.88,-104.56 95.22,-113.71 99.76,-108.39\"/>\n</g>\n<!-- 10 &#45; conference.12 &#45; VLDB -->\n<g id=\"node12\" class=\"node\">\n<title>10 &#45; conference.12 &#45; VLDB</title>\n<ellipse fill=\"none\" stroke=\"black\" cx=\"156\" cy=\"-90\" rx=\"37.09\" ry=\"18\"/>\n<text text-anchor=\"middle\" x=\"156\" y=\"-86.3\" font-family=\"Times,serif\" font-size=\"14.00\">VLDB</text>\n</g>\n<!-- 8 &#45; paper.10 &#45; conference&#45;&gt;10 &#45; conference.12 &#45; VLDB -->\n<g id=\"edge11\" class=\"edge\">\n<title>8 &#45; paper.10 &#45; conference&#45;&gt;10 &#45; conference.12 &#45; VLDB</title>\n<path fill=\"none\" stroke=\"black\" d=\"M156,-143.7C156,-135.98 156,-126.71 156,-118.11\"/>\n<polygon fill=\"black\" stroke=\"black\" points=\"159.5,-118.1 156,-108.1 152.5,-118.1 159.5,-118.1\"/>\n</g>\n<!-- 10 &#45; conference.13 &#45; 2002 -->\n<g id=\"node13\" class=\"node\">\n<title>10 &#45; conference.13 &#45; 2002</title>\n<ellipse fill=\"none\" stroke=\"black\" cx=\"245\" cy=\"-90\" rx=\"34.39\" ry=\"18\"/>\n<text text-anchor=\"middle\" x=\"245\" y=\"-86.3\" font-family=\"Times,serif\" font-size=\"14.00\">2002</text>\n</g>\n<!-- 8 &#45; paper.10 &#45; conference&#45;&gt;10 &#45; conference.13 &#45; 2002 -->\n<g id=\"edge12\" class=\"edge\">\n<title>8 &#45; paper.10 &#45; conference&#45;&gt;10 &#45; conference.13 &#45; 2002</title>\n<path fill=\"none\" stroke=\"black\" d=\"M176.64,-144.76C189.14,-134.93 205.21,-122.29 218.63,-111.74\"/>\n<polygon fill=\"black\" stroke=\"black\" points=\"220.89,-114.42 226.59,-105.48 216.56,-108.91 220.89,-114.42\"/>\n</g>\n<!-- 13 &#45; 2002.14 &#45; before -->\n<g id=\"node14\" class=\"node\">\n<title>13 &#45; 2002.14 &#45; before</title>\n<ellipse fill=\"none\" stroke=\"black\" cx=\"245\" cy=\"-18\" rx=\"40.09\" ry=\"18\"/>\n<text text-anchor=\"middle\" x=\"245\" y=\"-14.3\" font-family=\"Times,serif\" font-size=\"14.00\">before</text>\n</g>\n<!-- 10 &#45; conference.13 &#45; 2002&#45;&gt;13 &#45; 2002.14 &#45; before -->\n<g id=\"edge13\" class=\"edge\">\n<title>10 &#45; conference.13 &#45; 2002&#45;&gt;13 &#45; 2002.14 &#45; before</title>\n<path fill=\"none\" stroke=\"black\" d=\"M245,-71.7C245,-63.98 245,-54.71 245,-46.11\"/>\n<polygon fill=\"black\" stroke=\"black\" points=\"248.5,-46.1 245,-36.1 241.5,-46.1 248.5,-46.1\"/>\n</g>\n<!-- 15 &#45; 1995.16 &#45; after -->\n<g id=\"node16\" class=\"node\">\n<title>15 &#45; 1995.16 &#45; after</title>\n<ellipse fill=\"none\" stroke=\"black\" cx=\"269\" cy=\"-162\" rx=\"33.29\" ry=\"18\"/>\n<text text-anchor=\"middle\" x=\"269\" y=\"-158.3\" font-family=\"Times,serif\" font-size=\"14.00\">after</text>\n</g>\n<!-- 6 &#45; have.15 &#45; 1995&#45;&gt;15 &#45; 1995.16 &#45; after -->\n<g id=\"edge15\" class=\"edge\">\n<title>6 &#45; have.15 &#45; 1995&#45;&gt;15 &#45; 1995.16 &#45; after</title>\n<path fill=\"none\" stroke=\"black\" d=\"M259.9,-216.05C261.23,-208.35 262.82,-199.03 264.31,-190.36\"/>\n<polygon fill=\"black\" stroke=\"black\" points=\"267.8,-190.72 266.04,-180.28 260.9,-189.54 267.8,-190.72\"/>\n</g>\n</g>\n</svg>\n"
     },
     "metadata": {},
     "execution_count": 9
    }
   ],
   "source": [
    "query.parse_tree.show()"
   ]
  },
  {
   "cell_type": "markdown",
   "metadata": {},
   "source": [
    "## Node Mapper\n",
    "\n",
    "Como dito em [Arquitetura Geral](#arquitetura_geral), o módulo de **Query Tree Node Maper**, que no código é repesentado por `NodeMapper`, possui a função de mapear os nós da árvore de dependência para os elementos da estrutura SQL. Os tipos de nós, são: \n",
    "\n",
    "\n",
    "<a id=\"tipo_no\"></a>\n",
    "\n",
    "| Tipo de Nó |Componente SQL Correspondente |\n",
    "| :-- | :-- |\n",
    "| Select Node (SN) |palavra reservada SQL : SELECT |\n",
    "| Operator Node (ON) | operadores ( !=, >,<,=,  contains) |\n",
    "| Function Node (FN) | Funções de Agregação (AVG) |\n",
    "| Name Node (NN) | Nome de Relação ou de Atributo |\n",
    "| Value Node (VN) | Valor de um determinado atributo |\n",
    "| Quantifier Node (QN) | Palavras como ALL, ANY, EACH |\n",
    "| Logic Node (LN) | Operadores Booleanos (AND, OR, NOT) |\n",
    "\n",
    "Excluindo os Nós **Name** e **Value** nodes, todos os outros são definidos a partir de um arquivo xml. Esse arquivo se encontra dentro do diretório `zfiles`, como o nome de `tokens.xml` e possui o seguinte formato: \n",
    "``` xml\n",
    "<types>\n",
    "   <!-- Command Token, verb -->\n",
    "   <CMT_V>\n",
    "      <phrase>\n",
    "         tell\n",
    "         <example>Tell me all the books published in year 1993.</example>\n",
    "      </phrase>\n",
    "      <phrase>\n",
    "         give\n",
    "         <example>Give me all the books published in year 1993.</example>\n",
    "      </phrase>\n",
    "      <phrase>\n",
    "         return\n",
    "         <example>Return all the books published in year 1993.</example>\n",
    "      </phrase>\n",
    "   </CMT_V>\n",
    "   <!-- Function Token, adjective -->\n",
    "   <FT>\n",
    "      <phrase>\n",
    "         minimum\n",
    "         <function>min</function>\n",
    "         <example>Find the books with the minimum price.</example>\n",
    "      </phrase>\n",
    "      <phrase>\n",
    "         most\n",
    "         <function>max</function>\n",
    "      </phrase>\n",
    "      <phrase>\n",
    "         biggest\n",
    "         <function>max</function>\n",
    "      </phrase>\n",
    "      <phrase>\n",
    "         least\n",
    "         <function>min</function>\n",
    "      </phrase>\n",
    "   </FT>\n",
    "   <!-- Operator Token, adj -->\n",
    "   <OT>\n",
    "      <phrase>\n",
    "         earlier\n",
    "         <operator>&lt;</operator>\n",
    "         <example>Find all the books of Ayn Rand, where the year of each book is earlier than the year of \"Fountain Head\".</example>\n",
    "      </phrase>\n",
    "      <phrase>\n",
    "         later\n",
    "         <operator>&gt;</operator>\n",
    "         <example>Find all the books of Ayn Rand, where the year of each book is later than the year of \"Fountain Head\".</example>\n",
    "      </phrase>\n",
    "   </OT>\n",
    "</types>\n",
    "```\n",
    "\n",
    "Assim, se quem estiver utilizando o Sistema quiser aumentar a granularidade e a interpretação do NaLIR, basta aumentar a lista de tokens deste arquivo. O código a seguir mostra as etapas de função do mapeamento.\n",
    "\n",
    "``` python \n",
    " \n",
    " def phrase_process(query, db, config):\n",
    "        # ...\n",
    "        \n",
    "        NodeMapper.tokenizer(query, tokens)\n",
    "        NodeMapper.delete_useless(query)\n",
    "        NodeMapper.map(query,db)\n",
    "        NodeMapper.individual_rank(query)\n",
    "        group_ranking = NodeMapper.group_ranking(query,db)\n",
    "        return NodeMapper.group_ranking_to_df(group_ranking)\n",
    "\n",
    "\n",
    "```\n",
    "\n",
    "\n",
    "A primeira etapa `NodeMapper.tokenizer(query, tokens)` utiliza os tokens carregados do arquivo `tokens.xml` e mapeia corretamente os nós que exercem uma função diferente de Name Nodes e Value Nodes.  Nessa função a diferenciação acontece baseado na função sintática da palavra e na presença da palavra no arquivo de tokens. Por exemplo, se a palavra não estiver presente em tokens, e for um substantivo próprio ou comum, adjetivo ou um número cardinal, essa etapa assinala um tipo intermediario para o nó, `NTVT`. Isso indica para as fases seguintes que esse nós, apesar de não terem um tipo final, podem ser candidatos a algum mapeamento (Name Node ou Value Node).\n",
    "\n",
    "Em `delete_useless` todos os nós que não possuem tipo (`NA`) são deletados. Já em `map`, que será mostrado a seguir, busca todos os elementos de esquema e valores de banco de dados que podem fazer referencia aos nós \"candidatos\" a Name e Value Nodes dentro da árvore. \n",
    "\n",
    "\n",
    "``` python\n",
    "    def map(query, db):\n",
    "    parse_tree = query.parse_tree\n",
    "    all_nodes = parse_tree.all_nodes\n",
    "\n",
    "    for i in range(len(all_nodes)):\n",
    "        tree_node = all_nodes[i]\n",
    "        if tree_node.token_type == 'NTVT' or tree_node.token_type == 'JJ':\n",
    "            db.is_schema_exist(tree_node)\n",
    "            db.is_text_exist(tree_node)\n",
    "\n",
    "            if len(tree_node.mapped_elements) == 0:\n",
    "                tree_node.token_type = 'NA'\n",
    "\n",
    "        elif tree_node.token_type == 'VT':\n",
    "            OT = '='\n",
    "            if tree_node.parent.token_type == 'OT':\n",
    "                OT = tree_node.parent.function\n",
    "            elif len(tree_node.children) == 1 and tree_node.children[0].token_type == 'OT':\n",
    "                OT = tree_node.children[0].function\n",
    "            db.is_num_exist(OT, tree_node)\n",
    "            tree_node.token_type = 'VTNUM'\n",
    "\n",
    "```\n",
    "\n",
    "\n",
    "Os candidatos para Name Nodes são recuperados em `db.is_schema_exist` e  para Value Nodes em `db.is_text_exist` e `db.is_num_exist`.  \n",
    "\n",
    "A função `individual_ranking` é responsável por calcular a similaridade entre um dado nó e os elementos de esquema mapeados para o mesmo, enquanto a função ``group_ranking`` é responsável por identificar a melhor configuração de mapeamento para todos nós. Essa escolha é feita baseada em:\n",
    "\n",
    " - Em como os nós estão dispostos na árvore\n",
    " - Na relação entre os elementos de esquema mapeados para os nós\n",
    " \n",
    " Essa relação é calculada no Grafo de Esquema, usando Djkistra para calcular a distãncia entre os elementos do esquema. Ao final desse processo, `group_ranking` classifica os nós candidatos `NTVT` em Name Nodes (`NT`) ou Value Nodes (`VT`).  \n",
    "\n",
    "Abaixo segue o exemplo da saida da função que executa o mapeamento dos nós."
   ]
  },
  {
   "cell_type": "code",
   "execution_count": 10,
   "metadata": {
    "ExecuteTime": {
     "end_time": "2020-09-25T23:09:38.288137Z",
     "start_time": "2020-09-25T23:09:27.137697Z"
    }
   },
   "outputs": [
    {
     "output_type": "stream",
     "name": "stderr",
     "text": [
      "[nltk_data] Downloading package averaged_perceptron_tagger to\n",
      "[nltk_data]     /home/novello/nltk_data...\n",
      "[nltk_data]   Package averaged_perceptron_tagger is already up-to-\n",
      "[nltk_data]       date!\n",
      "[nltk_data] Downloading package wordnet to /home/novello/nltk_data...\n",
      "[nltk_data]   Package wordnet is already up-to-date!\n",
      "[nltk_data] Downloading package punkt to /home/novello/nltk_data...\n",
      "[nltk_data]   Package punkt is already up-to-date!\n"
     ]
    },
    {
     "output_type": "execute_result",
     "data": {
      "text/plain": [
       "      Keyword        Table Column TAG\n",
       "0     authors       author   name  NT\n",
       "1       paper  publication  title  NT\n",
       "2  conference   conference   name  NT\n",
       "3        vldb   conference   name  VT\n",
       "4        2002  publication   year  NT\n",
       "5        1995  publication   year  NT"
      ],
      "text/html": "<div>\n<style scoped>\n    .dataframe tbody tr th:only-of-type {\n        vertical-align: middle;\n    }\n\n    .dataframe tbody tr th {\n        vertical-align: top;\n    }\n\n    .dataframe thead th {\n        text-align: right;\n    }\n</style>\n<table border=\"1\" class=\"dataframe\">\n  <thead>\n    <tr style=\"text-align: right;\">\n      <th></th>\n      <th>Keyword</th>\n      <th>Table</th>\n      <th>Column</th>\n      <th>TAG</th>\n    </tr>\n  </thead>\n  <tbody>\n    <tr>\n      <th>0</th>\n      <td>authors</td>\n      <td>author</td>\n      <td>name</td>\n      <td>NT</td>\n    </tr>\n    <tr>\n      <th>1</th>\n      <td>paper</td>\n      <td>publication</td>\n      <td>title</td>\n      <td>NT</td>\n    </tr>\n    <tr>\n      <th>2</th>\n      <td>conference</td>\n      <td>conference</td>\n      <td>name</td>\n      <td>NT</td>\n    </tr>\n    <tr>\n      <th>3</th>\n      <td>vldb</td>\n      <td>conference</td>\n      <td>name</td>\n      <td>VT</td>\n    </tr>\n    <tr>\n      <th>4</th>\n      <td>2002</td>\n      <td>publication</td>\n      <td>year</td>\n      <td>NT</td>\n    </tr>\n    <tr>\n      <th>5</th>\n      <td>1995</td>\n      <td>publication</td>\n      <td>year</td>\n      <td>NT</td>\n    </tr>\n  </tbody>\n</table>\n</div>"
     },
     "metadata": {},
     "execution_count": 10
    }
   ],
   "source": [
    "import nltk\n",
    "nltk.download('averaged_perceptron_tagger')\n",
    "nltk.download('wordnet')\n",
    "nltk.download('punkt')\n",
    "NodeMapper.phrase_process(query,rdbms,config)"
   ]
  },
  {
   "cell_type": "code",
   "execution_count": 11,
   "metadata": {
    "ExecuteTime": {
     "end_time": "2020-09-25T23:09:38.327908Z",
     "start_time": "2020-09-25T23:09:38.291260Z"
    }
   },
   "outputs": [
    {
     "output_type": "execute_result",
     "data": {
      "text/plain": [
       "<graphviz.dot.Digraph at 0x7f035c1e6c10>"
      ],
      "image/svg+xml": "<?xml version=\"1.0\" encoding=\"UTF-8\" standalone=\"no\"?>\n<!DOCTYPE svg PUBLIC \"-//W3C//DTD SVG 1.1//EN\"\n \"http://www.w3.org/Graphics/SVG/1.1/DTD/svg11.dtd\">\n<!-- Generated by graphviz version 2.43.0 (0)\n -->\n<!-- Title: %3 Pages: 1 -->\n<svg width=\"178pt\" height=\"360pt\"\n viewBox=\"0.00 0.00 177.88 360.00\" xmlns=\"http://www.w3.org/2000/svg\" xmlns:xlink=\"http://www.w3.org/1999/xlink\">\n<g id=\"graph0\" class=\"graph\" transform=\"scale(1.32 1.32) rotate(0) translate(4 472)\">\n<title>%3</title>\n<polygon fill=\"white\" stroke=\"transparent\" points=\"-4,4 -4,-472 231.19,-472 231.19,4 -4,4\"/>\n<!-- 0.1 &#45; ROOT -->\n<g id=\"node1\" class=\"node\">\n<title>0.1 &#45; ROOT</title>\n<ellipse fill=\"none\" stroke=\"black\" cx=\"137.05\" cy=\"-450\" rx=\"38.19\" ry=\"18\"/>\n<text text-anchor=\"middle\" x=\"137.05\" y=\"-446.3\" font-family=\"Times,serif\" font-size=\"14.00\">ROOT</text>\n</g>\n<!-- 1 &#45; ROOT.2 &#45; return -->\n<g id=\"node2\" class=\"node\">\n<title>1 &#45; ROOT.2 &#45; return</title>\n<ellipse fill=\"none\" stroke=\"black\" cx=\"137.05\" cy=\"-378\" rx=\"40.09\" ry=\"18\"/>\n<text text-anchor=\"middle\" x=\"137.05\" y=\"-374.3\" font-family=\"Times,serif\" font-size=\"14.00\">return</text>\n</g>\n<!-- 0.1 &#45; ROOT&#45;&gt;1 &#45; ROOT.2 &#45; return -->\n<g id=\"edge1\" class=\"edge\">\n<title>0.1 &#45; ROOT&#45;&gt;1 &#45; ROOT.2 &#45; return</title>\n<path fill=\"none\" stroke=\"black\" d=\"M137.05,-431.7C137.05,-423.98 137.05,-414.71 137.05,-406.11\"/>\n<polygon fill=\"black\" stroke=\"black\" points=\"140.55,-406.1 137.05,-396.1 133.55,-406.1 140.55,-406.1\"/>\n</g>\n<!-- 2 &#45; return.4 &#45; authors -->\n<g id=\"node3\" class=\"node\">\n<title>2 &#45; return.4 &#45; authors</title>\n<ellipse fill=\"none\" stroke=\"black\" cx=\"137.05\" cy=\"-306\" rx=\"46.29\" ry=\"18\"/>\n<text text-anchor=\"middle\" x=\"137.05\" y=\"-302.3\" font-family=\"Times,serif\" font-size=\"14.00\">authors</text>\n</g>\n<!-- 1 &#45; ROOT.2 &#45; return&#45;&gt;2 &#45; return.4 &#45; authors -->\n<g id=\"edge2\" class=\"edge\">\n<title>1 &#45; ROOT.2 &#45; return&#45;&gt;2 &#45; return.4 &#45; authors</title>\n<path fill=\"none\" stroke=\"black\" d=\"M137.05,-359.7C137.05,-351.98 137.05,-342.71 137.05,-334.11\"/>\n<polygon fill=\"black\" stroke=\"black\" points=\"140.55,-334.1 137.05,-324.1 133.55,-334.1 140.55,-334.1\"/>\n</g>\n<!-- 4 &#45; authors.8 &#45; paper -->\n<g id=\"node4\" class=\"node\">\n<title>4 &#45; authors.8 &#45; paper</title>\n<ellipse fill=\"none\" stroke=\"black\" cx=\"92.05\" cy=\"-234\" rx=\"37.89\" ry=\"18\"/>\n<text text-anchor=\"middle\" x=\"92.05\" y=\"-230.3\" font-family=\"Times,serif\" font-size=\"14.00\">paper</text>\n</g>\n<!-- 2 &#45; return.4 &#45; authors&#45;&gt;4 &#45; authors.8 &#45; paper -->\n<g id=\"edge3\" class=\"edge\">\n<title>2 &#45; return.4 &#45; authors&#45;&gt;4 &#45; authors.8 &#45; paper</title>\n<path fill=\"none\" stroke=\"black\" d=\"M126.38,-288.41C120.95,-279.95 114.22,-269.49 108.17,-260.08\"/>\n<polygon fill=\"black\" stroke=\"black\" points=\"110.99,-257.99 102.63,-251.47 105.1,-261.77 110.99,-257.99\"/>\n</g>\n<!-- 4 &#45; authors.15 &#45; 1995 -->\n<g id=\"node9\" class=\"node\">\n<title>4 &#45; authors.15 &#45; 1995</title>\n<ellipse fill=\"none\" stroke=\"black\" cx=\"188.05\" cy=\"-234\" rx=\"34.39\" ry=\"18\"/>\n<text text-anchor=\"middle\" x=\"188.05\" y=\"-230.3\" font-family=\"Times,serif\" font-size=\"14.00\">1995</text>\n</g>\n<!-- 2 &#45; return.4 &#45; authors&#45;&gt;4 &#45; authors.15 &#45; 1995 -->\n<g id=\"edge8\" class=\"edge\">\n<title>2 &#45; return.4 &#45; authors&#45;&gt;4 &#45; authors.15 &#45; 1995</title>\n<path fill=\"none\" stroke=\"black\" d=\"M149.13,-288.41C155.51,-279.66 163.46,-268.75 170.5,-259.08\"/>\n<polygon fill=\"black\" stroke=\"black\" points=\"173.34,-261.13 176.4,-250.99 167.68,-257.01 173.34,-261.13\"/>\n</g>\n<!-- 8 &#45; paper.10 &#45; conference -->\n<g id=\"node5\" class=\"node\">\n<title>8 &#45; paper.10 &#45; conference</title>\n<ellipse fill=\"none\" stroke=\"black\" cx=\"81.05\" cy=\"-162\" rx=\"61.99\" ry=\"18\"/>\n<text text-anchor=\"middle\" x=\"81.05\" y=\"-158.3\" font-family=\"Times,serif\" font-size=\"14.00\">conference</text>\n</g>\n<!-- 4 &#45; authors.8 &#45; paper&#45;&gt;8 &#45; paper.10 &#45; conference -->\n<g id=\"edge4\" class=\"edge\">\n<title>4 &#45; authors.8 &#45; paper&#45;&gt;8 &#45; paper.10 &#45; conference</title>\n<path fill=\"none\" stroke=\"black\" d=\"M89.33,-215.7C88.12,-207.98 86.66,-198.71 85.31,-190.11\"/>\n<polygon fill=\"black\" stroke=\"black\" points=\"88.74,-189.44 83.73,-180.1 81.83,-190.53 88.74,-189.44\"/>\n</g>\n<!-- 10 &#45; conference.12 &#45; VLDB -->\n<g id=\"node6\" class=\"node\">\n<title>10 &#45; conference.12 &#45; VLDB</title>\n<ellipse fill=\"none\" stroke=\"black\" cx=\"37.05\" cy=\"-90\" rx=\"37.09\" ry=\"18\"/>\n<text text-anchor=\"middle\" x=\"37.05\" y=\"-86.3\" font-family=\"Times,serif\" font-size=\"14.00\">VLDB</text>\n</g>\n<!-- 8 &#45; paper.10 &#45; conference&#45;&gt;10 &#45; conference.12 &#45; VLDB -->\n<g id=\"edge5\" class=\"edge\">\n<title>8 &#45; paper.10 &#45; conference&#45;&gt;10 &#45; conference.12 &#45; VLDB</title>\n<path fill=\"none\" stroke=\"black\" d=\"M70.4,-144.05C65.08,-135.59 58.54,-125.19 52.66,-115.84\"/>\n<polygon fill=\"black\" stroke=\"black\" points=\"55.58,-113.91 47.3,-107.31 49.66,-117.64 55.58,-113.91\"/>\n</g>\n<!-- 10 &#45; conference.13 &#45; 2002 -->\n<g id=\"node7\" class=\"node\">\n<title>10 &#45; conference.13 &#45; 2002</title>\n<ellipse fill=\"none\" stroke=\"black\" cx=\"126.05\" cy=\"-90\" rx=\"34.39\" ry=\"18\"/>\n<text text-anchor=\"middle\" x=\"126.05\" y=\"-86.3\" font-family=\"Times,serif\" font-size=\"14.00\">2002</text>\n</g>\n<!-- 8 &#45; paper.10 &#45; conference&#45;&gt;10 &#45; conference.13 &#45; 2002 -->\n<g id=\"edge6\" class=\"edge\">\n<title>8 &#45; paper.10 &#45; conference&#45;&gt;10 &#45; conference.13 &#45; 2002</title>\n<path fill=\"none\" stroke=\"black\" d=\"M91.94,-144.05C97.38,-135.59 104.07,-125.19 110.08,-115.84\"/>\n<polygon fill=\"black\" stroke=\"black\" points=\"113.1,-117.61 115.56,-107.31 107.21,-113.83 113.1,-117.61\"/>\n</g>\n<!-- 13 &#45; 2002.14 &#45; before -->\n<g id=\"node8\" class=\"node\">\n<title>13 &#45; 2002.14 &#45; before</title>\n<ellipse fill=\"none\" stroke=\"black\" cx=\"126.05\" cy=\"-18\" rx=\"40.09\" ry=\"18\"/>\n<text text-anchor=\"middle\" x=\"126.05\" y=\"-14.3\" font-family=\"Times,serif\" font-size=\"14.00\">before</text>\n</g>\n<!-- 10 &#45; conference.13 &#45; 2002&#45;&gt;13 &#45; 2002.14 &#45; before -->\n<g id=\"edge7\" class=\"edge\">\n<title>10 &#45; conference.13 &#45; 2002&#45;&gt;13 &#45; 2002.14 &#45; before</title>\n<path fill=\"none\" stroke=\"black\" d=\"M126.05,-71.7C126.05,-63.98 126.05,-54.71 126.05,-46.11\"/>\n<polygon fill=\"black\" stroke=\"black\" points=\"129.55,-46.1 126.05,-36.1 122.55,-46.1 129.55,-46.1\"/>\n</g>\n<!-- 15 &#45; 1995.16 &#45; after -->\n<g id=\"node10\" class=\"node\">\n<title>15 &#45; 1995.16 &#45; after</title>\n<ellipse fill=\"none\" stroke=\"black\" cx=\"194.05\" cy=\"-162\" rx=\"33.29\" ry=\"18\"/>\n<text text-anchor=\"middle\" x=\"194.05\" y=\"-158.3\" font-family=\"Times,serif\" font-size=\"14.00\">after</text>\n</g>\n<!-- 4 &#45; authors.15 &#45; 1995&#45;&gt;15 &#45; 1995.16 &#45; after -->\n<g id=\"edge9\" class=\"edge\">\n<title>4 &#45; authors.15 &#45; 1995&#45;&gt;15 &#45; 1995.16 &#45; after</title>\n<path fill=\"none\" stroke=\"black\" d=\"M189.53,-215.7C190.19,-207.98 190.99,-198.71 191.72,-190.11\"/>\n<polygon fill=\"black\" stroke=\"black\" points=\"195.21,-190.37 192.58,-180.1 188.24,-189.77 195.21,-190.37\"/>\n</g>\n</g>\n</svg>\n"
     },
     "metadata": {},
     "execution_count": 11
    }
   ],
   "source": [
    "query.parse_tree.show()"
   ]
  },
  {
   "cell_type": "markdown",
   "metadata": {},
   "source": [
    "##  Entity Resolution"
   ]
  },
  {
   "cell_type": "markdown",
   "metadata": {},
   "source": [
    "Esse módulo é a primeira fase do **Tree Strucutre Adjustor**. Antes de gerar as árvores seguindo a gramática, **Entity Resolution** verifica quais nós referenciam o mesmo atributo na árvore. Essa relação é utilizada tanto na geração de árvores derivadas, quanto na pontuação das árvores. Segue abaixo o código da função ``entity_resolute``, seguido da saída da mesma: \n",
    "\n",
    "\n",
    "``` python \n",
    "\n",
    "def entity_resolute(query):\n",
    "    query.entities = []\n",
    "    nodes = query.parse_tree.all_nodes\n",
    "    for i in range(len(nodes)):\n",
    "        left = nodes[i]\n",
    "        if left.get_choice_map() == None:\n",
    "            continue\n",
    "        left_map = left.get_choice_map().schema_element\n",
    "        for j in range(i+1, len(nodes)):\n",
    "            right = nodes[j]\n",
    "            if right.get_choice_map() == None:\n",
    "                continue\n",
    "            right_map = right.get_choice_map().schema_element\n",
    "            if left_map == right_map:\n",
    "                if left.token_type == \"VTTEXT\" and left.token_type == \"VTTEXT\":\n",
    "                    if left.label == right.label:\n",
    "                        entity_pair = EntityPair(left, right)\n",
    "                        query.entities.append(entity_pair)\n",
    "                    else:\n",
    "                        continue\n",
    "                if left.token_type == \"VTTEXT\" and right.token_type == \"NT\" or\\\n",
    "                 left.token_type == \"NT\" and right.token_type == \"VTTEXT\" or\\\n",
    "                 left.token_type == \"NT\" and right.token_type == \"NT\":\n",
    "                    if abs(left.word_order - right.word_order) > 2:\n",
    "                        continue\n",
    "                    else:\n",
    "                        entity_pair = EntityPair(left, right)\n",
    "                        query.entities.append(entity_pair)\n",
    "\n",
    "```"
   ]
  },
  {
   "cell_type": "code",
   "execution_count": 12,
   "metadata": {
    "ExecuteTime": {
     "end_time": "2020-09-25T23:09:38.419847Z",
     "start_time": "2020-09-25T23:09:38.329289Z"
    }
   },
   "outputs": [
    {
     "output_type": "execute_result",
     "data": {
      "text/plain": [
       "[EntityPair('(12)VLDB', '(10)conference')]"
      ]
     },
     "metadata": {},
     "execution_count": 12
    }
   ],
   "source": [
    "entity_resolute(query)\n",
    "query.entities"
   ]
  },
  {
   "cell_type": "markdown",
   "metadata": {},
   "source": [
    "## Tree Structure Adjustor\n",
    "\n",
    "Este módulo é responsável por:\n",
    " * Verificar se a árvore gerada condiz com a gramática especificada\n",
    " * Gerar Árvores variantes da Árvore de Parser original que seguem a gramática\n",
    " * Ranquear todas as Árvores, e escolher a com maior pontuação para a etapa de tradução.\n",
    " \n",
    "A gramática que deve ser seguida para as árvores é a seguinte:\n",
    "```\n",
    "\n",
    "Q -> (SClause)(ComplexCondition)*\n",
    "SClause -> SELECT + GNT\n",
    "ComplexCondition -> ON + (leftSubtree*rightSubtree)\n",
    "leftSubtree -> GNP\n",
    "rightSubtree -> GNP |VN | MIN | MAX\n",
    "GNP -> (FN + GNP) | NP\n",
    "NP -> NN + (NN)*(Condition)*\n",
    "Condition-> VN | (ON + VN)\n",
    "```\n",
    "\n",
    "Em que: \n",
    "* VN, NN, FN, ON são tipos de nós referenciados na [tabela de tipos de nós](#tipo_no)\n",
    "* `+` representa relações de pai-filho entre os nós\n",
    "* `*` representa relações de irmão entre os nós\n",
    "\n",
    "\n",
    "A função `tree_structure_adjust`, listada a seguir, é a responsável por executar o processo de geração das árvores.\n",
    "\n",
    "``` python\n",
    "    \tdef tree_structure_adjust(query,  db):\n",
    "\t\tquery.adjusting_trees = []\n",
    "\t\tquery.invalid = []\n",
    "\t\tpre_trees = {}\n",
    "   \n",
    "\t\tTreeStructureAdjustor.adjust(query, db,False, pre_trees)\n",
    "\t\tif len(query.adjusting_trees) == 0 or (len(query.adjusting_trees) > 0 and query.adjusting_trees[0].cost > 3):\n",
    "\t\t\tmax_min = False\n",
    "\t\t\tfor node in query.parse_tree.all_nodes:\n",
    "\t\t\t\tif node.function == 'max' or node.function == 'min':\n",
    "\t\t\t\t\tmax_min = True\n",
    "\t\t\t\t\tbreak\n",
    "\n",
    "\t\t\tif max_min:\n",
    "\t\t\t\tTreeStructureAdjustor.adjust(query, db, True, pre_trees)\n",
    "\n",
    "\t\tadjusted_trees = query.adjusting_trees\n",
    "\t\tadjusted_trees.sort(key=lambda elem : ((elem.weight * 100) - elem.cost) * -1 )\n",
    "\t\tfor i  in range(len(adjusted_trees)):\n",
    "\t\t\tadjusted_tree = adjusted_trees[i]\n",
    "\n",
    "\t\t\tfor j in range(len(adjusted_tree.all_nodes)):\n",
    "\t\t\t\tnode = adjusted_trees[i].all_nodes[j]\n",
    "\t\t\t\tnode.children.sort(key=lambda elem: elem.node_id)\n",
    "\t\t\thash(adjusted_tree)\n",
    "\n",
    "\n",
    "\t\tlinked_list = []\n",
    "\t\ti = 0\n",
    "\t\twhile i  < len(adjusted_trees):\n",
    "\t\t\tif adjusted_trees[i].hash_num in linked_list:\n",
    "\t\t\t\tadjusted_trees.pop(i)\n",
    "\t\t\t\ti-=1\n",
    "\t\t\telse:\n",
    "\t\t\t\tlinked_list += [adjusted_trees[i].hash_num]\n",
    "\t\t\ti+=1\n",
    "\n",
    "\t\tTreeStructureAdjustor.build_adjusted_trees(query)\n",
    "\n",
    "\n",
    "```\n",
    "\n",
    "\n",
    "Como podemos observar, primeiramente é gerado uma série de árvores, chamadas `adjusting_trees`. Depois de ordenarmos estas árvores intermediárias, ordenamos todos os filhos de todos os nós, e retiramos as árvores repetidas da lista. A partir dai, geramos a lista final de árvores, no método `build_adjusted_trees`. A seguir, verificamos a saída final do método."
   ]
  },
  {
   "cell_type": "code",
   "execution_count": 13,
   "metadata": {
    "ExecuteTime": {
     "end_time": "2020-09-25T23:09:39.566174Z",
     "start_time": "2020-09-25T23:09:38.422232Z"
    }
   },
   "outputs": [
    {
     "output_type": "execute_result",
     "data": {
      "text/plain": [
       "<graphviz.dot.Digraph at 0x7f0303b96d90>"
      ],
      "image/svg+xml": "<?xml version=\"1.0\" encoding=\"UTF-8\" standalone=\"no\"?>\n<!DOCTYPE svg PUBLIC \"-//W3C//DTD SVG 1.1//EN\"\n \"http://www.w3.org/Graphics/SVG/1.1/DTD/svg11.dtd\">\n<!-- Generated by graphviz version 2.43.0 (0)\n -->\n<!-- Title: %3 Pages: 1 -->\n<svg width=\"281pt\" height=\"360pt\"\n viewBox=\"0.00 0.00 280.86 360.00\" xmlns=\"http://www.w3.org/2000/svg\" xmlns:xlink=\"http://www.w3.org/1999/xlink\">\n<g id=\"graph0\" class=\"graph\" transform=\"scale(1.12 1.12) rotate(0) translate(4 400)\">\n<title>%3</title>\n<polygon fill=\"white\" stroke=\"transparent\" points=\"-4,4 -4,-400 311.19,-400 311.19,4 -4,4\"/>\n<!-- 0.1 &#45; ROOT -->\n<g id=\"node1\" class=\"node\">\n<title>0.1 &#45; ROOT</title>\n<ellipse fill=\"none\" stroke=\"black\" cx=\"181.74\" cy=\"-378\" rx=\"38.19\" ry=\"18\"/>\n<text text-anchor=\"middle\" x=\"181.74\" y=\"-374.3\" font-family=\"Times,serif\" font-size=\"14.00\">ROOT</text>\n</g>\n<!-- 1 &#45; ROOT.2 &#45; return -->\n<g id=\"node2\" class=\"node\">\n<title>1 &#45; ROOT.2 &#45; return</title>\n<ellipse fill=\"none\" stroke=\"black\" cx=\"181.74\" cy=\"-306\" rx=\"40.09\" ry=\"18\"/>\n<text text-anchor=\"middle\" x=\"181.74\" y=\"-302.3\" font-family=\"Times,serif\" font-size=\"14.00\">return</text>\n</g>\n<!-- 0.1 &#45; ROOT&#45;&gt;1 &#45; ROOT.2 &#45; return -->\n<g id=\"edge1\" class=\"edge\">\n<title>0.1 &#45; ROOT&#45;&gt;1 &#45; ROOT.2 &#45; return</title>\n<path fill=\"none\" stroke=\"black\" d=\"M181.74,-359.7C181.74,-351.98 181.74,-342.71 181.74,-334.11\"/>\n<polygon fill=\"black\" stroke=\"black\" points=\"185.24,-334.1 181.74,-324.1 178.24,-334.1 185.24,-334.1\"/>\n</g>\n<!-- 2 &#45; return.4 &#45; authors -->\n<g id=\"node3\" class=\"node\">\n<title>2 &#45; return.4 &#45; authors</title>\n<ellipse fill=\"none\" stroke=\"black\" cx=\"181.74\" cy=\"-234\" rx=\"46.29\" ry=\"18\"/>\n<text text-anchor=\"middle\" x=\"181.74\" y=\"-230.3\" font-family=\"Times,serif\" font-size=\"14.00\">authors</text>\n</g>\n<!-- 1 &#45; ROOT.2 &#45; return&#45;&gt;2 &#45; return.4 &#45; authors -->\n<g id=\"edge2\" class=\"edge\">\n<title>1 &#45; ROOT.2 &#45; return&#45;&gt;2 &#45; return.4 &#45; authors</title>\n<path fill=\"none\" stroke=\"black\" d=\"M181.74,-287.7C181.74,-279.98 181.74,-270.71 181.74,-262.11\"/>\n<polygon fill=\"black\" stroke=\"black\" points=\"185.24,-262.1 181.74,-252.1 178.24,-262.1 185.24,-262.1\"/>\n</g>\n<!-- 4 &#45; authors.8 &#45; paper -->\n<g id=\"node4\" class=\"node\">\n<title>4 &#45; authors.8 &#45; paper</title>\n<ellipse fill=\"none\" stroke=\"black\" cx=\"181.74\" cy=\"-162\" rx=\"37.89\" ry=\"18\"/>\n<text text-anchor=\"middle\" x=\"181.74\" y=\"-158.3\" font-family=\"Times,serif\" font-size=\"14.00\">paper</text>\n</g>\n<!-- 2 &#45; return.4 &#45; authors&#45;&gt;4 &#45; authors.8 &#45; paper -->\n<g id=\"edge3\" class=\"edge\">\n<title>2 &#45; return.4 &#45; authors&#45;&gt;4 &#45; authors.8 &#45; paper</title>\n<path fill=\"none\" stroke=\"black\" d=\"M181.74,-215.7C181.74,-207.98 181.74,-198.71 181.74,-190.11\"/>\n<polygon fill=\"black\" stroke=\"black\" points=\"185.24,-190.1 181.74,-180.1 178.24,-190.1 185.24,-190.1\"/>\n</g>\n<!-- 8 &#45; paper.10 &#45; conference -->\n<g id=\"node5\" class=\"node\">\n<title>8 &#45; paper.10 &#45; conference</title>\n<ellipse fill=\"none\" stroke=\"black\" cx=\"61.74\" cy=\"-90\" rx=\"61.99\" ry=\"18\"/>\n<text text-anchor=\"middle\" x=\"61.74\" y=\"-86.3\" font-family=\"Times,serif\" font-size=\"14.00\">conference</text>\n</g>\n<!-- 4 &#45; authors.8 &#45; paper&#45;&gt;8 &#45; paper.10 &#45; conference -->\n<g id=\"edge4\" class=\"edge\">\n<title>4 &#45; authors.8 &#45; paper&#45;&gt;8 &#45; paper.10 &#45; conference</title>\n<path fill=\"none\" stroke=\"black\" d=\"M158.89,-147.67C141.44,-137.49 117.07,-123.27 97.1,-111.62\"/>\n<polygon fill=\"black\" stroke=\"black\" points=\"98.68,-108.49 88.28,-106.48 95.15,-114.54 98.68,-108.49\"/>\n</g>\n<!-- 8 &#45; paper.14 &#45; before -->\n<g id=\"node7\" class=\"node\">\n<title>8 &#45; paper.14 &#45; before</title>\n<ellipse fill=\"none\" stroke=\"black\" cx=\"181.74\" cy=\"-90\" rx=\"40.09\" ry=\"18\"/>\n<text text-anchor=\"middle\" x=\"181.74\" y=\"-86.3\" font-family=\"Times,serif\" font-size=\"14.00\">before</text>\n</g>\n<!-- 4 &#45; authors.8 &#45; paper&#45;&gt;8 &#45; paper.14 &#45; before -->\n<g id=\"edge6\" class=\"edge\">\n<title>4 &#45; authors.8 &#45; paper&#45;&gt;8 &#45; paper.14 &#45; before</title>\n<path fill=\"none\" stroke=\"black\" d=\"M181.74,-143.7C181.74,-135.98 181.74,-126.71 181.74,-118.11\"/>\n<polygon fill=\"black\" stroke=\"black\" points=\"185.24,-118.1 181.74,-108.1 178.24,-118.1 185.24,-118.1\"/>\n</g>\n<!-- 8 &#45; paper.16 &#45; after -->\n<g id=\"node9\" class=\"node\">\n<title>8 &#45; paper.16 &#45; after</title>\n<ellipse fill=\"none\" stroke=\"black\" cx=\"272.74\" cy=\"-90\" rx=\"33.29\" ry=\"18\"/>\n<text text-anchor=\"middle\" x=\"272.74\" y=\"-86.3\" font-family=\"Times,serif\" font-size=\"14.00\">after</text>\n</g>\n<!-- 4 &#45; authors.8 &#45; paper&#45;&gt;8 &#45; paper.16 &#45; after -->\n<g id=\"edge8\" class=\"edge\">\n<title>4 &#45; authors.8 &#45; paper&#45;&gt;8 &#45; paper.16 &#45; after</title>\n<path fill=\"none\" stroke=\"black\" d=\"M201.04,-146.15C214.21,-136.02 231.83,-122.47 246.3,-111.34\"/>\n<polygon fill=\"black\" stroke=\"black\" points=\"248.61,-113.98 254.4,-105.11 244.34,-108.43 248.61,-113.98\"/>\n</g>\n<!-- 10 &#45; conference.12 &#45; VLDB -->\n<g id=\"node6\" class=\"node\">\n<title>10 &#45; conference.12 &#45; VLDB</title>\n<ellipse fill=\"none\" stroke=\"black\" cx=\"61.74\" cy=\"-18\" rx=\"37.09\" ry=\"18\"/>\n<text text-anchor=\"middle\" x=\"61.74\" y=\"-14.3\" font-family=\"Times,serif\" font-size=\"14.00\">VLDB</text>\n</g>\n<!-- 8 &#45; paper.10 &#45; conference&#45;&gt;10 &#45; conference.12 &#45; VLDB -->\n<g id=\"edge5\" class=\"edge\">\n<title>8 &#45; paper.10 &#45; conference&#45;&gt;10 &#45; conference.12 &#45; VLDB</title>\n<path fill=\"none\" stroke=\"black\" d=\"M61.74,-71.7C61.74,-63.98 61.74,-54.71 61.74,-46.11\"/>\n<polygon fill=\"black\" stroke=\"black\" points=\"65.24,-46.1 61.74,-36.1 58.24,-46.1 65.24,-46.1\"/>\n</g>\n<!-- 14 &#45; before.13 &#45; 2002 -->\n<g id=\"node8\" class=\"node\">\n<title>14 &#45; before.13 &#45; 2002</title>\n<ellipse fill=\"none\" stroke=\"black\" cx=\"181.74\" cy=\"-18\" rx=\"34.39\" ry=\"18\"/>\n<text text-anchor=\"middle\" x=\"181.74\" y=\"-14.3\" font-family=\"Times,serif\" font-size=\"14.00\">2002</text>\n</g>\n<!-- 8 &#45; paper.14 &#45; before&#45;&gt;14 &#45; before.13 &#45; 2002 -->\n<g id=\"edge7\" class=\"edge\">\n<title>8 &#45; paper.14 &#45; before&#45;&gt;14 &#45; before.13 &#45; 2002</title>\n<path fill=\"none\" stroke=\"black\" d=\"M181.74,-71.7C181.74,-63.98 181.74,-54.71 181.74,-46.11\"/>\n<polygon fill=\"black\" stroke=\"black\" points=\"185.24,-46.1 181.74,-36.1 178.24,-46.1 185.24,-46.1\"/>\n</g>\n<!-- 16 &#45; after.15 &#45; 1995 -->\n<g id=\"node10\" class=\"node\">\n<title>16 &#45; after.15 &#45; 1995</title>\n<ellipse fill=\"none\" stroke=\"black\" cx=\"272.74\" cy=\"-18\" rx=\"34.39\" ry=\"18\"/>\n<text text-anchor=\"middle\" x=\"272.74\" y=\"-14.3\" font-family=\"Times,serif\" font-size=\"14.00\">1995</text>\n</g>\n<!-- 8 &#45; paper.16 &#45; after&#45;&gt;16 &#45; after.15 &#45; 1995 -->\n<g id=\"edge9\" class=\"edge\">\n<title>8 &#45; paper.16 &#45; after&#45;&gt;16 &#45; after.15 &#45; 1995</title>\n<path fill=\"none\" stroke=\"black\" d=\"M272.74,-71.7C272.74,-63.98 272.74,-54.71 272.74,-46.11\"/>\n<polygon fill=\"black\" stroke=\"black\" points=\"276.24,-46.1 272.74,-36.1 269.24,-46.1 276.24,-46.1\"/>\n</g>\n</g>\n</svg>\n"
     },
     "metadata": {},
     "execution_count": 13
    }
   ],
   "source": [
    "TreeStructureAdjustor.tree_structure_adjust(query,rdbms)\n",
    "query.query_tree.show()"
   ]
  },
  {
   "cell_type": "markdown",
   "metadata": {},
   "source": [
    "## Explainer\n",
    "\n",
    "Este módulo, é a última etapa de **Tree Strucuture Adjustor**. Após selecionar a árvore com maior pontuação, este módulo insere nós com o intuito de facilitar a tradução da consulta para linguagem natural para a SQL. Outro objetivo desta etapa é retirar elipses da consulta.  O código asseguir, mostra que esta função apenas itera sobre os nós da árvore e verifica se pode inserir outros nós que já estão na árvore, em um dos seus nós filhos.\n",
    "\n",
    "\n",
    "\n",
    "```python \n",
    "  def explain(query):\n",
    "    for i in query.adjusted_trees:\n",
    "        nl = explain_tree(i)\n",
    "        query.nl_sentence.append(nl)\n",
    "\n",
    "```"
   ]
  },
  {
   "cell_type": "code",
   "execution_count": 14,
   "metadata": {},
   "outputs": [
    {
     "output_type": "execute_result",
     "data": {
      "text/plain": [
       "<graphviz.dot.Digraph at 0x7f0303b96fd0>"
      ],
      "image/svg+xml": "<?xml version=\"1.0\" encoding=\"UTF-8\" standalone=\"no\"?>\n<!DOCTYPE svg PUBLIC \"-//W3C//DTD SVG 1.1//EN\"\n \"http://www.w3.org/Graphics/SVG/1.1/DTD/svg11.dtd\">\n<!-- Generated by graphviz version 2.43.0 (0)\n -->\n<!-- Title: %3 Pages: 1 -->\n<svg width=\"281pt\" height=\"360pt\"\n viewBox=\"0.00 0.00 280.86 360.00\" xmlns=\"http://www.w3.org/2000/svg\" xmlns:xlink=\"http://www.w3.org/1999/xlink\">\n<g id=\"graph0\" class=\"graph\" transform=\"scale(1.12 1.12) rotate(0) translate(4 400)\">\n<title>%3</title>\n<polygon fill=\"white\" stroke=\"transparent\" points=\"-4,4 -4,-400 311.19,-400 311.19,4 -4,4\"/>\n<!-- 0.1 &#45; ROOT -->\n<g id=\"node1\" class=\"node\">\n<title>0.1 &#45; ROOT</title>\n<ellipse fill=\"none\" stroke=\"black\" cx=\"181.74\" cy=\"-378\" rx=\"38.19\" ry=\"18\"/>\n<text text-anchor=\"middle\" x=\"181.74\" y=\"-374.3\" font-family=\"Times,serif\" font-size=\"14.00\">ROOT</text>\n</g>\n<!-- 1 &#45; ROOT.2 &#45; return -->\n<g id=\"node2\" class=\"node\">\n<title>1 &#45; ROOT.2 &#45; return</title>\n<ellipse fill=\"none\" stroke=\"black\" cx=\"181.74\" cy=\"-306\" rx=\"40.09\" ry=\"18\"/>\n<text text-anchor=\"middle\" x=\"181.74\" y=\"-302.3\" font-family=\"Times,serif\" font-size=\"14.00\">return</text>\n</g>\n<!-- 0.1 &#45; ROOT&#45;&gt;1 &#45; ROOT.2 &#45; return -->\n<g id=\"edge1\" class=\"edge\">\n<title>0.1 &#45; ROOT&#45;&gt;1 &#45; ROOT.2 &#45; return</title>\n<path fill=\"none\" stroke=\"black\" d=\"M181.74,-359.7C181.74,-351.98 181.74,-342.71 181.74,-334.11\"/>\n<polygon fill=\"black\" stroke=\"black\" points=\"185.24,-334.1 181.74,-324.1 178.24,-334.1 185.24,-334.1\"/>\n</g>\n<!-- 2 &#45; return.4 &#45; authors -->\n<g id=\"node3\" class=\"node\">\n<title>2 &#45; return.4 &#45; authors</title>\n<ellipse fill=\"none\" stroke=\"black\" cx=\"181.74\" cy=\"-234\" rx=\"46.29\" ry=\"18\"/>\n<text text-anchor=\"middle\" x=\"181.74\" y=\"-230.3\" font-family=\"Times,serif\" font-size=\"14.00\">authors</text>\n</g>\n<!-- 1 &#45; ROOT.2 &#45; return&#45;&gt;2 &#45; return.4 &#45; authors -->\n<g id=\"edge2\" class=\"edge\">\n<title>1 &#45; ROOT.2 &#45; return&#45;&gt;2 &#45; return.4 &#45; authors</title>\n<path fill=\"none\" stroke=\"black\" d=\"M181.74,-287.7C181.74,-279.98 181.74,-270.71 181.74,-262.11\"/>\n<polygon fill=\"black\" stroke=\"black\" points=\"185.24,-262.1 181.74,-252.1 178.24,-262.1 185.24,-262.1\"/>\n</g>\n<!-- 4 &#45; authors.8 &#45; paper -->\n<g id=\"node4\" class=\"node\">\n<title>4 &#45; authors.8 &#45; paper</title>\n<ellipse fill=\"none\" stroke=\"black\" cx=\"181.74\" cy=\"-162\" rx=\"37.89\" ry=\"18\"/>\n<text text-anchor=\"middle\" x=\"181.74\" y=\"-158.3\" font-family=\"Times,serif\" font-size=\"14.00\">paper</text>\n</g>\n<!-- 2 &#45; return.4 &#45; authors&#45;&gt;4 &#45; authors.8 &#45; paper -->\n<g id=\"edge3\" class=\"edge\">\n<title>2 &#45; return.4 &#45; authors&#45;&gt;4 &#45; authors.8 &#45; paper</title>\n<path fill=\"none\" stroke=\"black\" d=\"M181.74,-215.7C181.74,-207.98 181.74,-198.71 181.74,-190.11\"/>\n<polygon fill=\"black\" stroke=\"black\" points=\"185.24,-190.1 181.74,-180.1 178.24,-190.1 185.24,-190.1\"/>\n</g>\n<!-- 8 &#45; paper.10 &#45; conference -->\n<g id=\"node5\" class=\"node\">\n<title>8 &#45; paper.10 &#45; conference</title>\n<ellipse fill=\"none\" stroke=\"black\" cx=\"61.74\" cy=\"-90\" rx=\"61.99\" ry=\"18\"/>\n<text text-anchor=\"middle\" x=\"61.74\" y=\"-86.3\" font-family=\"Times,serif\" font-size=\"14.00\">conference</text>\n</g>\n<!-- 4 &#45; authors.8 &#45; paper&#45;&gt;8 &#45; paper.10 &#45; conference -->\n<g id=\"edge4\" class=\"edge\">\n<title>4 &#45; authors.8 &#45; paper&#45;&gt;8 &#45; paper.10 &#45; conference</title>\n<path fill=\"none\" stroke=\"black\" d=\"M158.89,-147.67C141.44,-137.49 117.07,-123.27 97.1,-111.62\"/>\n<polygon fill=\"black\" stroke=\"black\" points=\"98.68,-108.49 88.28,-106.48 95.15,-114.54 98.68,-108.49\"/>\n</g>\n<!-- 8 &#45; paper.14 &#45; before -->\n<g id=\"node7\" class=\"node\">\n<title>8 &#45; paper.14 &#45; before</title>\n<ellipse fill=\"none\" stroke=\"black\" cx=\"181.74\" cy=\"-90\" rx=\"40.09\" ry=\"18\"/>\n<text text-anchor=\"middle\" x=\"181.74\" y=\"-86.3\" font-family=\"Times,serif\" font-size=\"14.00\">before</text>\n</g>\n<!-- 4 &#45; authors.8 &#45; paper&#45;&gt;8 &#45; paper.14 &#45; before -->\n<g id=\"edge6\" class=\"edge\">\n<title>4 &#45; authors.8 &#45; paper&#45;&gt;8 &#45; paper.14 &#45; before</title>\n<path fill=\"none\" stroke=\"black\" d=\"M181.74,-143.7C181.74,-135.98 181.74,-126.71 181.74,-118.11\"/>\n<polygon fill=\"black\" stroke=\"black\" points=\"185.24,-118.1 181.74,-108.1 178.24,-118.1 185.24,-118.1\"/>\n</g>\n<!-- 8 &#45; paper.16 &#45; after -->\n<g id=\"node9\" class=\"node\">\n<title>8 &#45; paper.16 &#45; after</title>\n<ellipse fill=\"none\" stroke=\"black\" cx=\"272.74\" cy=\"-90\" rx=\"33.29\" ry=\"18\"/>\n<text text-anchor=\"middle\" x=\"272.74\" y=\"-86.3\" font-family=\"Times,serif\" font-size=\"14.00\">after</text>\n</g>\n<!-- 4 &#45; authors.8 &#45; paper&#45;&gt;8 &#45; paper.16 &#45; after -->\n<g id=\"edge8\" class=\"edge\">\n<title>4 &#45; authors.8 &#45; paper&#45;&gt;8 &#45; paper.16 &#45; after</title>\n<path fill=\"none\" stroke=\"black\" d=\"M201.04,-146.15C214.21,-136.02 231.83,-122.47 246.3,-111.34\"/>\n<polygon fill=\"black\" stroke=\"black\" points=\"248.61,-113.98 254.4,-105.11 244.34,-108.43 248.61,-113.98\"/>\n</g>\n<!-- 10 &#45; conference.12 &#45; VLDB -->\n<g id=\"node6\" class=\"node\">\n<title>10 &#45; conference.12 &#45; VLDB</title>\n<ellipse fill=\"none\" stroke=\"black\" cx=\"61.74\" cy=\"-18\" rx=\"37.09\" ry=\"18\"/>\n<text text-anchor=\"middle\" x=\"61.74\" y=\"-14.3\" font-family=\"Times,serif\" font-size=\"14.00\">VLDB</text>\n</g>\n<!-- 8 &#45; paper.10 &#45; conference&#45;&gt;10 &#45; conference.12 &#45; VLDB -->\n<g id=\"edge5\" class=\"edge\">\n<title>8 &#45; paper.10 &#45; conference&#45;&gt;10 &#45; conference.12 &#45; VLDB</title>\n<path fill=\"none\" stroke=\"black\" d=\"M61.74,-71.7C61.74,-63.98 61.74,-54.71 61.74,-46.11\"/>\n<polygon fill=\"black\" stroke=\"black\" points=\"65.24,-46.1 61.74,-36.1 58.24,-46.1 65.24,-46.1\"/>\n</g>\n<!-- 14 &#45; before.13 &#45; 2002 -->\n<g id=\"node8\" class=\"node\">\n<title>14 &#45; before.13 &#45; 2002</title>\n<ellipse fill=\"none\" stroke=\"black\" cx=\"181.74\" cy=\"-18\" rx=\"34.39\" ry=\"18\"/>\n<text text-anchor=\"middle\" x=\"181.74\" y=\"-14.3\" font-family=\"Times,serif\" font-size=\"14.00\">2002</text>\n</g>\n<!-- 8 &#45; paper.14 &#45; before&#45;&gt;14 &#45; before.13 &#45; 2002 -->\n<g id=\"edge7\" class=\"edge\">\n<title>8 &#45; paper.14 &#45; before&#45;&gt;14 &#45; before.13 &#45; 2002</title>\n<path fill=\"none\" stroke=\"black\" d=\"M181.74,-71.7C181.74,-63.98 181.74,-54.71 181.74,-46.11\"/>\n<polygon fill=\"black\" stroke=\"black\" points=\"185.24,-46.1 181.74,-36.1 178.24,-46.1 185.24,-46.1\"/>\n</g>\n<!-- 16 &#45; after.15 &#45; 1995 -->\n<g id=\"node10\" class=\"node\">\n<title>16 &#45; after.15 &#45; 1995</title>\n<ellipse fill=\"none\" stroke=\"black\" cx=\"272.74\" cy=\"-18\" rx=\"34.39\" ry=\"18\"/>\n<text text-anchor=\"middle\" x=\"272.74\" y=\"-14.3\" font-family=\"Times,serif\" font-size=\"14.00\">1995</text>\n</g>\n<!-- 8 &#45; paper.16 &#45; after&#45;&gt;16 &#45; after.15 &#45; 1995 -->\n<g id=\"edge9\" class=\"edge\">\n<title>8 &#45; paper.16 &#45; after&#45;&gt;16 &#45; after.15 &#45; 1995</title>\n<path fill=\"none\" stroke=\"black\" d=\"M272.74,-71.7C272.74,-63.98 272.74,-54.71 272.74,-46.11\"/>\n<polygon fill=\"black\" stroke=\"black\" points=\"276.24,-46.1 272.74,-36.1 269.24,-46.1 276.24,-46.1\"/>\n</g>\n</g>\n</svg>\n"
     },
     "metadata": {},
     "execution_count": 14
    }
   ],
   "source": [
    "explain(query)\n",
    "query.query_tree.show()"
   ]
  },
  {
   "cell_type": "markdown",
   "metadata": {},
   "source": [
    "## SQL Translator\n",
    "\n",
    "O último módulo da arquitetura do NaLIR, é responsável por receber a Árvore Consulta (`query_tree`), gerada pelo **Query Tree Strucutre Adjustor** e retornar a SQL correspondente.  A função `translate`, listada a seguir, é a responsável por executar esse processo dentro do módulo. \n",
    "\n",
    "Como vemos no código a estrutura utilizada para converter a árvore em uma string SQL é uma estrutura chamada `block`. Cada `block` identifica um nivel de consulta. Assim, consultas que não possuem subconsultas, possuem apenas um bloco. Consultas que possuem agregação, ou consultas aninhadas, possuem dois ou mais blocos.\n",
    "\n",
    "```python\n",
    "def translate(query, db):\n",
    "    pre_structure_adjustor(query)\n",
    "    if len(query.query_tree.all_nodes) < 2:\n",
    "        return\n",
    "    query.blocks = []\n",
    "    block_split(query)\n",
    "    query.blocks[0].node_edge_gen(query.main_block, query.query_tree, query.graph)\n",
    "    query.blocks[0].translate(query.main_block, query.query_tree)\n",
    "    query.translated_sql = query.blocks[0].sql\n",
    "```"
   ]
  },
  {
   "cell_type": "code",
   "execution_count": 15,
   "metadata": {
    "ExecuteTime": {
     "end_time": "2020-09-25T23:09:39.725094Z",
     "start_time": "2020-09-25T23:09:39.638591Z"
    }
   },
   "outputs": [
    {
     "output_type": "stream",
     "name": "stdout",
     "text": [
      "SELECT DISTINCT author.name\nFROM author, publication, conference, writes\nWHERE conference.name = \"VLDB\" AND publication.year < 2002 AND publication.year > 1995 AND author.aid = writes.aid AND writes.pid = publication.pid AND publication.cid = conference.cid\n"
     ]
    }
   ],
   "source": [
    "translate(query, rdbms)\n",
    "print(query.translated_sql)"
   ]
  },
  {
   "cell_type": "markdown",
   "metadata": {},
   "source": [
    "## Outras consultas que também podem ser executadas"
   ]
  },
  {
   "cell_type": "code",
   "execution_count": 16,
   "metadata": {},
   "outputs": [
    {
     "output_type": "stream",
     "name": "stderr",
     "text": [
      "ERROR:/home/novello/nalir-glamorise/nalir/components/explainer.py:error by chidren zeroed\n",
      "ERROR:/home/novello/nalir-glamorise/nalir/components/explainer.py:error by chidren zeroed\n"
     ]
    }
   ],
   "source": [
    "queries = [\n",
    "'return me the homepage of PVLDB.',\n",
    "'return me the homepage of \"H. V. Jagadish\".',\n",
    "'return me the abstract of \"Making database systems usable\".',\n",
    "'return me the year of \"Making database systems usable\"',\n",
    "'return me the papers after 2000.',\n",
    "'return me the homepage of the VLDB conference.',\n",
    "'return me all the keywords.',\n",
    "'return me all the organizations.',\n",
    "'return me all the organizations in \"North America\".',\n",
    "'return me the homepage of \"University of Michigan\".',\n",
    "'return me the number of references of \"Making database systems usable\".',\n",
    "'return me the number of citations of \"Making database systems usable\".',\n",
    "'return me the year of \"Making database systems usable\".',\n",
    "'return me the paper with more than 200 citations.',\n",
    "'return me the authors who have papers in PVLDB 2010.',\n",
    "'return me the authors who have papers in PVLDB after 2010.',\n",
    "'return me the authors who have papers in VLDB conference in 2002.',\n",
    "'return me the authors who have papers in VLDB conference before 2002.',\n",
    "'return me the authors who have papers in VLDB conference before 2002 after 1995.',\n",
    "'return me the authors who have papers in VLDB conference before 1995 or after 2002.',\n",
    "'return me the area of PVLDB.',\n",
    "'return me the authors who have papers in PVLDB.',\n",
    "'return me the organization \"H. V. Jagadish\" is in.',\n",
    "'return me the conferences, which have papers by \"H. V. Jagadish\".',\n",
    "'return me the journals, which have papers by \"H. V. Jagadish\".',\n",
    "'return me the domain where \"H. V. Jagadish\" is focused.',\n",
    "'return me the authors of \"Making database systems usable\".',\n",
    "'return me the conference, which published \"Making database systems usable\".',\n",
    "'return me the references of \"Making database systems usable\".',\n",
    "'return me the citations of \"Making database systems usable\".',\n",
    "'return me the papers by \"H. V. Jagadish\".',\n",
    "'return me the papers on VLDB conference.',\n",
    "'return me the papers on PVLDB.',\n",
    "'return me the papers on PVLDB after 2000.',\n",
    "'return me the papers on VLDB conference after 2000.',\n",
    "'return me the papers by \"H. V. Jagadish\" on PVLDB.',\n",
    "'return me the papers by \"H. V. Jagadish\" on VLDB conference.',\n",
    "'return me the papers by \"H. V. Jagadish\" after 2000.',\n",
    "'return me the papers by \"H. V. Jagadish\" on PVLDB after 2000.',\n",
    "'return me the papers by \"H. V. Jagadish\" on VLDB conference after 2000.',\n",
    "'return me the area of the VLDB conference.',\n",
    "'return me the authors who have papers in the VLDB conference.',\n",
    "'return me all the keywords in Databases area.',\n",
    "'return me all the papers, which contain the keyword \"Natural Language\".',\n",
    "'return me the keywords of \"Making database systems usable\".',\n",
    "'return me the keywords related to \"H. V. Jagadish\".',\n",
    "'return me the keywords in VLDB conference.',\n",
    "'return me the keywords in PVLDB.',\n",
    "'return me the keywords in the papers of \"University of Michigan\".',\n",
    "'return me the papers of \"H. V. Jagadish\" containing keyword \"User Study\".',\n",
    "'return me the papers in PVLDB containing keyword \"Keyword search\".',\n",
    "'return me the papers in VLDB conference containing keyword \"Information Retrieval\".',\n",
    "'return me the authors who have papers containing keyword \"Relational Database\".',\n",
    "'return me all the organizations in Databases area.',\n",
    "'return me all the organizations in Databases area located in \"North America\".',\n",
    "'return me all the researchers in \"University of Michigan\".',\n",
    "'return me all the researchers in Databases area in \"University of Michigan\".',\n",
    "'return me all the papers in \"University of Michigan\".',\n",
    "'return me all the papers after 2000 in \"University of Michigan\".',\n",
    "'return me all the papers in VLDB conference in \"University of Michigan\".',\n",
    "'return me all the papers in PVLDB in \"University of Michigan\".',\n",
    "'return me all the papers in VLDB after 2000 in \"University of Michigan\".',\n",
    "'return me all the papers in PVLDB after 2000 in \"University of Michigan\".',\n",
    "'return me the paper in Databases area with more than 200 citations.',\n",
    "'return me the paper in PVLDB with more than 200 citations.',\n",
    "'return me the paper in VLDB conference with more than 200 citations.',\n",
    "'return me the paper by \"H. V. Jagadish\" with more than 200 citations.',\n",
    "'return me the papers by \"H. V. Jagadish\" on PVLDB with more than 200 citations.',\n",
    "'return me the papers by \"H. V. Jagadish\" on VLDB conference with more than 200 citations.',\n",
    "'return me the paper after 2000 with more than 200 citations.',\n",
    "'return me the paper after 2000 in Databases area with more than 200 citations.',\n",
    "'return me the paper after 2000 in PVLDB with more than 200 citations.',\n",
    "'return me the paper after 2000 in VLDB conference with more than 200 citations.',\n",
    "'return me the number of conferences which have papers by \"H. V. Jagadish\".',\n",
    "'return me the number of journals which have papers by \"H. V. Jagadish\".',\n",
    "'return me the number of papers written by \"H. V. Jagadish\" in each year.',\n",
    "'return me the number of authors of \"Making database systems usable\".',\n",
    "'return me the number of citations of \"Making database systems usable\" in each year.',\n",
    "'return me the number of papers by \"H. V. Jagadish\".',\n",
    "'return me the number of papers on VLDB conference.',\n",
    "'return me the number of papers on PVLDB.',\n",
    "'return me the number of papers after 2000.',\n",
    "'return me the number of papers on PVLDB after 2000.',\n",
    "'return me the number of papers on VLDB conference after 2000.',\n",
    "'return me the number of papers by \"H. V. Jagadish\" on PVLDB.',\n",
    "'return me the number of papers by \"H. V. Jagadish\" on VLDB conference.',\n",
    "'return me the number of papers by \"H. V. Jagadish\" after 2000.',\n",
    "'return me the number of papers by \"H. V. Jagadish\" on PVLDB after 2000.',\n",
    "'return me the number of papers by \"H. V. Jagadish\" on VLDB conference after 2000.',\n",
    "'return me the number of keywords.',\n",
    "'return me the number of keywords in Databases area.',\n",
    "'return me the number of papers which contain the keyword \"Natural Language\".',\n",
    "'return me the number of the keywords of \"Making database systems usable\".',\n",
    "'return me the number of the keywords related to \"H. V. Jagadish\".',\n",
    "'return me the number of keywords in VLDB conference.',\n",
    "'return me the number of keywords in PVLDB.',\n",
    "'return me the number of keywords in the papers of \"University of Michigan\".',\n",
    "'return me the number of the papers of \"H. V. Jagadish\" containing keyword \"User Study\".',\n",
    "'return me the number of papers in PVLDB containing keyword \"Keyword search\".',\n",
    "'return me the number of papers in VLDB conference containing keyword \"Information Retrieval\".',\n",
    "'return me the number of authors who have papers containing keyword \"Relational Database\".',\n",
    "'return me the total citations of the papers containing keyword \"Natural Language\"',\n",
    "'return me the number of the organizations.',\n",
    "'return me the number of the organizations in \"North America\".',\n",
    "'return me the number of organizations in Databases area.',\n",
    "'return me the number of organizations in Databases area located in \"North America\".',\n",
    "'return me the number of papers in \"University of Michigan\".',\n",
    "'return me the number of papers in \"University of Michigan\" in Databases area.',\n",
    "'return me the number of papers after 2000 in \"University of Michigan\".',\n",
    "'return me the number of papers in VLDB conference in \"University of Michigan\".',\n",
    "'return me the number of papers in PVLDB in \"University of Michigan\".',\n",
    "'return me the number of papers in VLDB after 2000 in \"University of Michigan\".',\n",
    "'return me the number of papers in PVLDB after 2000 in \"University of Michigan\".',\n",
    "'return me the total citations of the papers in \"University of Michigan\".',\n",
    "'return me the number of researchers in \"University of Michigan\".',\n",
    "'return me the number of researchers in Databases area in \"University of Michigan\".',\n",
    "'return me the number of authors who have papers in PVLDB.',\n",
    "'return me the number of authors who have papers in the VLDB conference.',\n",
    "'return me the number of papers published on PVLDB before 2000.',\n",
    "'return me the number of papers published in the VLDB conference before 2000.',\n",
    "'return me the total citations of all the papers in PVLDB.',\n",
    "'return me the citations of each paper in PVLDB.',\n",
    "'return me the total citations of papers in PVLDB in 2005.',\n",
    "'return me the total citations of papers in PVLDB before 2005.',\n",
    "'return me the total citations of papers in PVLDB in each year.',\n",
    "'return me the number of papers published in PVLDB in each year.',\n",
    "'return me the total citations of all the papers in the VLDB conference.',\n",
    "'return me the citations of each paper in the VLDB conference.',\n",
    "'return me the total citations of papers in the VLDB conference in 2005.',\n",
    "'return me the total citations of papers in the VLDB conference before 2005.',\n",
    "'return me the total citations of papers in the VLDB conference in each year.',\n",
    "'return me the number of papers published in the VLDB conference in each year.',\n",
    "'return me the authors who have cooperated both with \"H. V. Jagadish\" and \"Divesh Srivastava\".',\n",
    "'return me the authors who have cooperated with \"H. V. Jagadish\" or \"Divesh Srivastava\".',\n",
    "'return me the authors who have cooperated with \"H. V. Jagadish\" after 2000.',\n",
    "'return me the papers written by \"H. V. Jagadish\" and \"Divesh Srivastava\".',\n",
    "'return me the papers written by \"H. V. Jagadish\" and \"Yunyao Li\" after 2005.',\n",
    "'return me the papers written by \"H. V. Jagadish\" and \"Yunyao Li\" on PVLDB.',\n",
    "'return me the papers written by \"H. V. Jagadish\" and \"Yunyao Li\" on PVLDB after 2005.',\n",
    "'return me the authors who have cooperated with \"H. V. Jagadish\".',\n",
    "'return me the papers written by \"H. V. Jagadish\" and \"Divesh Srivastava\" before 2000.',\n",
    "'return me the authors who have cited the papers by \"H. V. Jagadish\".',\n",
    "'return me the number of papers written by \"H. V. Jagadish\" and \"Divesh Srivastava\".',\n",
    "'return me the number of papers written by \"H. V. Jagadish\" and \"Divesh Srivastava\" before 2000.',\n",
    "'return me the number of papers written by \"H. V. Jagadish\", \"Yunyao Li\", and \"Cong Yu\".',\n",
    "'return me the number of authors who have cooperated with \"H. V. Jagadish\".',\n",
    "'return me the number of authors who have cited the papers by \"H. V. Jagadish\".',\n",
    "'return me the papers written by \"H. V. Jagadish\" and \"Divesh Srivastava\" with more than 200 citations.',\n",
    "'return me the author who has the most number of papers containing keyword \"Relational Database\".',\n",
    "'return me the conference that has the most number of papers containing keyword \"Relational Database\".',\n",
    "'return me the journal that has the most number of papers containing keyword \"Relational Database\".',\n",
    "'return me the number of authors who have more than 10 papers containing keyword \"Relational Database\".',\n",
    "'return me the number of the conferences, which have more than 60 papers containing keyword \"Relational Database\".',\n",
    "'return me the number of the journals, which have more than 60 papers containing keyword \"Relational Database\".',\n",
    "'return me the number of the authors who have more than 10 papers containing keyword \"Relational Database\".',\n",
    "'return me the number of conferences, which have more than 60 papers containing keyword \"Relational Database\".',\n",
    "'return me the number of journals, which have more than 60 papers containing keyword \"Relational Database\".',\n",
    "'return me the number of keywords, which have been contained by more than 100 papers in VLDB conference.',\n",
    "'return me the number of keywords, which have been contained by more than 100 papers in PVLDB.',\n",
    "'return me the number of keywords, which have been contained by more than 10 papers of \"H. V. Jagadish\".',\n",
    "'return me the keyword, which have been contained by the most number of papers in VLDB conference.',\n",
    "'return me the keyword, which have been contained by the most number of papers in PVLDB.',\n",
    "'return me the keyword, which have been contained by the most number of papers by \"H. V. Jagadish\".',\n",
    "'return me the journal, which has the most number of papers containing keyword \"Relational Database\".',\n",
    "'return me the conference, which has the most number of papers containing keyword \"Relational Database\".',\n",
    "'return me the author who has the most number of papers containing keyword \"Relational Database\".',\n",
    "'return me the author in the \"University of Michigan\" whose papers have the most total citations.',\n",
    "'return me the author in the \"University of Michigan\" whose papers in Databases area have the most total citations.',\n",
    "'return me the papers written by \"H. V. Jagadish\" and \"Divesh Srivastava\" with the most number of citations.',\n",
    "'return me the conferences, which have more than 10 papers by \"H. V. Jagadish\".',\n",
    "'return me the conference, which have the most number of papers by \"H. V. Jagadish\".',\n",
    "'return me the journals, which have more than 10 papers by \"H. V. Jagadish\".',\n",
    "'return me the journal, which have the most number of papers by \"H. V. Jagadish\".',\n",
    "'return me the paper with the most citations.',\n",
    "'return me the paper in Databases area with the most citations.',\n",
    "'return me the paper in PVLDB with the most citations.',\n",
    "'return me the paper in VLDB conference with the most citations.',\n",
    "'return me the paper by \"H. V. Jagadish\" with the most citations.',\n",
    "'return me the paper after 2000 with the most citations.',\n",
    "'return me the paper after 2000 in Databases area with the most citations.',\n",
    "'return me the paper after 2000 in PVLDB with the most citations.',\n",
    "'return me the paper after 2000 in VLDB conference with the most citations.',\n",
    "'return me the authors who have more than 10 papers in PVLDB.',\n",
    "'return me the authors who have the most number of papers in PVLDB.',\n",
    "'return me the authors who have more than 10 papers containing keyword \"Relational Database\".',\n",
    "'return me the conferences, which have more than 60 papers containing keyword \"Relational Database\".',\n",
    "'return me the journals, which have more than 60 papers containing keyword \"Relational Database\".',\n",
    "'return me the keywords, which have been contained by more than 100 papers in VLDB conference.',\n",
    "'return me the keywords, which have been contained by more than 100 papers in PVLDB.',\n",
    "'return me the keywords, which have been contained by more than 10 papers of \"H. V. Jagadish\".',\n",
    "'return me the authors who have more than 10 papers in the VLDB conference.',\n",
    "'return me the author who has the most number of papers in the VLDB conference.',\n",
    "'return me the author in the \"University of Michigan\" whose papers have more than 5000 total citations.',\n",
    "'return me the author in the \"University of Michigan\" in Databases area whose papers have more than 5000 total citations.']\n",
    "\n",
    "\n",
    "sql_queries = []\n",
    "for query in queries:\n",
    "    sql_query = run_query(query, rdbms, config)\n",
    "    sql_queries += [sql_query]"
   ]
  },
  {
   "cell_type": "code",
   "execution_count": 17,
   "metadata": {},
   "outputs": [
    {
     "output_type": "execute_result",
     "data": {
      "text/plain": [
       "AND domain_author.did = domain.did AND author.oid = organization.oid',\n",
       " '',\n",
       " '',\n",
       " 'SELECT DISTINCT conference.name FROM conference, publication, organization, writes, author WHERE publication.title = \"Papers\" AND conference.name = \"VLDB\" AND organization.name = \"University of Michigan\" AND conference.cid = publication.cid AND conference.cid = publication.cid AND publication.pid = writes.pid AND writes.aid = author.aid AND author.oid = organization.oid',\n",
       " '',\n",
       " '',\n",
       " '',\n",
       " 'SELECT DISTINCT publication.title FROM publication, journal, domain, conference, domain_conference WHERE journal.name = \"Area\" AND domain.name = \"Databases\" AND publication.reference_num > 200 AND publication.jid = journal.jid AND publication.cid = conference.cid AND conference.cid = domain_conference.cid AND domain_conference.did = domain.did',\n",
       " 'SELECT DISTINCT publication.title FROM publication, journal WHERE journal.name = \"PVLDB\" AND publication.reference_num > 200 AND publication.jid = journal.jid',\n",
       " 'SELECT DISTINCT publication.title FROM publication, conference WHERE conference.name = \"VLDB\" AND publication.reference_num > 200 AND publication.cid = conference.cid',\n",
       " 'SELECT DISTINCT publication.title FROM publication, author, writes WHERE author.name = \"H. V. Jagadish\" AND publication.reference_num > 200 AND publication.pid = writes.pid AND writes.aid = author.aid',\n",
       " '',\n",
       " 'SELECT DISTINCT conference.name FROM conference, publication, author, writes WHERE conference.name = \"VLDB\" AND publication.title = \"Papers\" AND author.name = \"H. V. Jagadish\" AND publication.reference_num > 200 AND conference.cid = publication.cid AND publication.pid = writes.pid AND writes.aid = author.aid',\n",
       " 'SELECT DISTINCT publication.title FROM publication WHERE publication.citation_num > 2000 AND publication.reference_num > 200',\n",
       " 'SELECT DISTINCT publication.title FROM publication, journal, domain, conference, domain_conference WHERE journal.name = \"Area\" AND domain.name = \"Databases\" AND publication.year > 2000 AND publication.reference_num > 200 AND publication.jid = journal.jid AND publication.cid = conference.cid AND conference.cid = domain_conference.cid AND domain_conference.did = domain.did',\n",
       " 'SELECT DISTINCT publication.title FROM publication, journal WHERE journal.name = \"PVLDB\" AND publication.year > 2000 AND publication.reference_num > 200 AND publication.jid = journal.jid',\n",
       " 'SELECT DISTINCT publication.title FROM publication, conference WHERE publication.year > 2000 AND conference.name = \"VLDB\" AND publication.reference_num > 200 AND publication.cid = conference.cid',\n",
       " 'SELECT DISTINCT count(conference.name) FROM conference, publication, author, writes WHERE publication.title = \"Papers\" AND author.name = \"H. V. Jagadish\" AND conference.cid = publication.cid AND conference.cid = publication.cid AND publication.pid = writes.pid AND writes.aid = author.aid',\n",
       " 'SELECT DISTINCT count(journal.name) FROM journal, publication, author, writes WHERE publication.title = \"Papers\" AND author.name = \"H. V. Jagadish\" AND journal.jid = publication.jid AND journal.jid = publication.jid AND publication.pid = writes.pid AND writes.aid = author.aid',\n",
       " '',\n",
       " 'SELECT DISTINCT count(author.name) FROM author, publication, writes WHERE publication.title = \"Making database systems usable\" AND author.aid = writes.aid AND writes.pid = publication.pid',\n",
       " 'SELECT DISTINCT count(publication.citation_num), publication.year FROM publication WHERE publication.title = \"Making database systems usable\" GROUP BY publication.year',\n",
       " '',\n",
       " 'SELECT DISTINCT count(conference.name) FROM conference, publication WHERE publication.title = \"Papers\" AND conference.name = \"VLDB\" AND conference.cid = publication.cid',\n",
       " '',\n",
       " '',\n",
       " '',\n",
       " 'SELECT DISTINCT count(conference.name) FROM conference, publication WHERE publication.title = \"Papers\" AND conference.name = \"VLDB\" AND publication.year > 2000 AND conference.cid = publication.cid AND conference.cid = publication.cid',\n",
       " '',\n",
       " 'SELECT DISTINCT count(conference.name) FROM conference, publication, author, writes WHERE publication.title = \"Papers\" AND author.name = \"H. V. Jagadish\" AND conference.name = \"VLDB\" AND conference.cid = publication.cid AND conference.cid = publication.cid AND publication.pid = writes.pid AND writes.aid = author.aid',\n",
       " '',\n",
       " '',\n",
       " '',\n",
       " 'SELECT DISTINCT count(keyword.keyword) FROM keyword',\n",
       " 'SELECT DISTINCT count(keyword.keyword) FROM keyword, domain, domain_keyword WHERE domain.name = \"Databases\" AND keyword.kid = domain_keyword.kid AND domain_keyword.did = domain.did',\n",
       " 'SELECT DISTINCT count(keyword.keyword) FROM keyword, publication, publication_keyword WHERE publication.title = \"Papers\" AND keyword.keyword = \"Natural Language\" AND keyword.kid = publication_keyword.kid AND publication_keyword.pid = publication.pid',\n",
       " 'SELECT DISTINCT count(keyword.keyword) FROM keyword, publication, publication_keyword WHERE publication.title = \"Making database systems usable\" AND keyword.kid = publication_keyword.kid AND publication_keyword.pid = publication.pid',\n",
       " 'SELECT DISTINCT count(keyword.keyword) FROM keyword, author, domain_keyword, domain, domain_author WHERE author.name = \"H. V. Jagadish\" AND keyword.kid = domain_keyword.kid AND domain_keyword.did = domain.did AND domain.did = domain_author.did AND domain_author.aid = author.aid',\n",
       " 'SELECT DISTINCT count(keyword.keyword) FROM keyword, conference, publication_keyword, publication WHERE conference.name = \"VLDB\" AND keyword.kid = publication_keyword.kid AND publication_keyword.pid = publication.pid AND publication.cid = conference.cid',\n",
       " 'SELECT DISTINCT count(keyword.keyword) FROM keyword, journal, publication_keyword, publication WHERE journal.name = \"PVLDB\" AND keyword.kid = publication_keyword.kid AND publication_keyword.pid = publication.pid AND publication.jid = journal.jid',\n",
       " 'SELECT DISTINCT count(keyword.keyword) FROM keyword, publication, organization, publication_keyword, domain_keyword, domain, domain_author, author WHERE publication.title = \"Papers\" AND organization.name = \"University of Michigan\" AND keyword.kid = publication_keyword.kid AND publication_keyword.pid = publication.pid AND keyword.kid = domain_keyword.kid AND domain_keyword.did = domain.did AND domain.did = domain_author.did AND domain_author.aid = author.aid AND author.oid = organization.oid',\n",
       " '',\n",
       " '',\n",
       " '',\n",
       " 'SELECT DISTINCT count(author.name) FROM author, publication, keyword, writes, domain_author, domain, domain_keyword WHERE publication.title = \"Papers\" AND publication.title = \"Relational Database\" AND author.aid = writes.aid AND writes.pid = publication.pid AND author.aid = writes.aid AND writes.pid = publication.pid AND author.aid = domain_author.aid AND domain_author.did = domain.did AND domain.did = domain_keyword.did AND domain_keyword.kid = keyword.kid',\n",
       " 'SELECT DISTINCT sum(publication.citation_num) FROM publication, keyword, publication_keyword WHERE publication.title = \"Papers\" AND keyword.keyword = \"Natural Language\" AND publication.pid = publication_keyword.pid AND publication_keyword.kid = keyword.kid AND publication.pid = publication_keyword.pid AND publication_keyword.kid = keyword.kid',\n",
       " 'SELECT DISTINCT count(organization.name) FROM organization',\n",
       " 'SELECT DISTINCT count(organization.name) FROM organization WHERE organization.continent = \"North America\"',\n",
       " 'SELECT DISTINCT count(organization.name) FROM organization, domain, author, domain_author WHERE domain.name = \"Databases\" AND organization.oid = author.oid AND author.aid = domain_author.aid AND domain_author.did = domain.did',\n",
       " 'SELECT DISTINCT count(organization.name) FROM organization, domain, author, domain_author WHERE organization.continent = \"North America\" AND domain.name = \"Databases\" AND organization.oid = author.oid AND author.aid = domain_author.aid AND domain_author.did = domain.did',\n",
       " '',\n",
       " 'SELECT DISTINCT count(domain.name) FROM domain, publication, organization, domain_conference, conference, domain_author, author WHERE publication.title = \"Papers\" AND organization.name = \"University of Michigan\" AND domain.name = \"Databases\" AND domain.did = domain_conference.did AND domain_conference.cid = conference.cid AND conference.cid = publication.cid AND domain.did = domain_author.did AND domain_author.aid = author.aid AND author.oid = organization.oid',\n",
       " '',\n",
       " 'SELECT DISTINCT count(conference.name) FROM conference, publication, organization, writes, author WHERE publication.title = \"Papers\" AND conference.name = \"VLDB\" AND organization.name = \"University of Michigan\" AND conference.cid = publication.cid AND conference.cid = publication.cid AND publication.pid = writes.pid AND writes.aid = author.aid AND author.oid = organization.oid',\n",
       " '',\n",
       " '',\n",
       " '',\n",
       " 'SELECT DISTINCT sum(publication.citation_num) FROM publication, organization, writes, author WHERE publication.title = \"Papers\" AND organization.name = \"University of Michigan\" AND publication.pid = writes.pid AND writes.aid = author.aid AND author.oid = organization.oid',\n",
       " 'SELECT DISTINCT count(author.name) FROM author, organization WHERE organization.name = \"University of Michigan\" AND author.oid = organization.oid',\n",
       " 'SELECT DISTINCT count(author.name) FROM author, domain, organization, domain_author WHERE organization.name = \"University of Michigan\" AND domain.name = \"Databases\" AND author.aid = domain_author.aid AND domain_author.did = domain.did AND author.oid = organization.oid',\n",
       " 'SELECT DISTINCT count(author.name) FROM author, publication, journal, writes WHERE publication.title = \"Papers\" AND journal.name = \"PVLDB\" AND author.aid = writes.aid AND writes.pid = publication.pid AND author.aid = writes.aid AND writes.pid = publication.pid AND publication.jid = journal.jid',\n",
       " 'SELECT DISTINCT count(author.name) FROM author, publication, conference, writes WHERE publication.title = \"Papers\" AND conference.name = \"VLDB\" AND author.aid = writes.aid AND writes.pid = publication.pid AND author.aid = writes.aid AND writes.pid = publication.pid AND publication.cid = conference.cid',\n",
       " '',\n",
       " 'SELECT DISTINCT count(conference.name) FROM conference, publication WHERE publication.title = \"Papers\" AND conference.name = \"VLDB\" AND publication.year < 2000 AND conference.cid = publication.cid AND conference.cid = publication.cid',\n",
       " 'SELECT DISTINCT sum(publication.citation_num) FROM publication, journal WHERE publication.title = \"Papers\" AND journal.name = \"PVLDB\" AND publication.jid = journal.jid',\n",
       " 'SELECT DISTINCT publication.citation_num, publication.title FROM publication, journal WHERE journal.name = \"PVLDB\" AND publication.jid = journal.jid GROUP BY publication.title',\n",
       " 'SELECT DISTINCT sum(publication.citation_num) FROM publication, journal WHERE publication.title = \"Papers\" AND journal.name = \"PVLDB\" AND publication.year LIKE \"%2005 AND publication.jid = journal.jid',\n",
       " 'SELECT DISTINCT sum(publication.citation_num) FROM publication, journal WHERE publication.title = \"Papers\" AND journal.name = \"PVLDB\" AND publication.year < 2005 AND publication.jid = journal.jid',\n",
       " 'SELECT DISTINCT sum(publication.citation_num), publication.year FROM publication, journal WHERE publication.title = \"Papers\" AND journal.name = \"PVLDB\" AND publication.jid = journal.jid GROUP BY publication.year',\n",
       " '',\n",
       " 'SELECT DISTINCT sum(publication.citation_num) FROM publication, conference WHERE publication.title = \"Papers\" AND conference.name = \"VLDB\" AND publication.cid = conference.cid',\n",
       " 'SELECT DISTINCT publication.citation_num, publication.title FROM publication, conference WHERE conference.name = \"VLDB\" AND publication.cid = conference.cid GROUP BY publication.title',\n",
       " 'SELECT DISTINCT sum(publication.citation_num) FROM publication, conference WHERE publication.title = \"Papers\" AND publication.year LIKE \"%2005 AND conference.name = \"VLDB\" AND publication.cid = conference.cid',\n",
       " 'SELECT DISTINCT sum(publication.citation_num) FROM publication, conference WHERE publication.title = \"Papers\" AND conference.name = \"VLDB\" AND publication.year < 2005 AND publication.cid = conference.cid',\n",
       " 'SELECT DISTINCT sum(publication.citation_num), publication.year FROM publication, conference WHERE publication.title = \"Papers\" AND conference.name = \"VLDB\" AND publication.cid = conference.cid GROUP BY publication.year',\n",
       " 'SELECT DISTINCT count(conference.name), publication.year FROM conference, publication WHERE conference.name = \"VLDB\" AND publication.title = \"Papers\" AND conference.cid = publication.cid GROUP BY publication.year',\n",
       " 'SELECT DISTINCT author.name FROM author WHERE author.name = \"H. V. Jagadish\" AND author.name = \"Divesh Srivastava\"',\n",
       " 'SELECT DISTINCT author.name FROM author WHERE author.name = \"H. V. Jagadish\" AND author.name = \"Divesh Srivastava\"',\n",
       " 'SELECT DISTINCT author.name FROM author, publication, writes WHERE author.name = \"H. V. Jagadish\" AND publication.year > 2000 AND author.aid = writes.aid AND writes.pid = publication.pid',\n",
       " '',\n",
       " '',\n",
       " '',\n",
       " '',\n",
       " 'SELECT DISTINCT author.name FROM author WHERE author.name = \"H. V. Jagadish\"',\n",
       " '',\n",
       " 'SELECT DISTINCT author.name FROM author, publication, writes WHERE publication.title = \"Papers\" AND author.name = \"H. V. Jagadish\" AND author.aid = writes.aid AND writes.pid = publication.pid',\n",
       " '',\n",
       " '',\n",
       " '',\n",
       " 'SELECT DISTINCT count(author.name) FROM author WHERE author.name = \"H. V. Jagadish\"',\n",
       " 'SELECT DISTINCT count(author.name) FROM author, publication, writes WHERE publication.title = \"Papers\" AND author.name = \"H. V. Jagadish\" AND author.aid = writes.aid AND writes.pid = publication.pid',\n",
       " '',\n",
       " '',\n",
       " '',\n",
       " '',\n",
       " 'SELECT DISTINCT count(author.name) FROM author, publication, writes WHERE publication.title = \"Papers\" AND publication.title = \"Relational Database\" AND author.aid = writes.aid AND writes.pid = publication.pid AND author.aid = writes.aid AND writes.pid = publication.pid',\n",
       " '',\n",
       " '',\n",
       " '',\n",
       " 'SELECT DISTINCT count(conference.name) FROM conference, publication WHERE publication.title = \"Papers\" AND publication.title = \"Relational Database\" AND conference.cid = publication.cid AND conference.cid = publication.cid',\n",
       " 'SELECT DISTINCT count(journal.name) FROM journal, publication WHERE publication.title = \"Papers\" AND publication.title = \"Relational Database\" AND journal.jid = publication.jid AND journal.jid = publication.jid',\n",
       " 'SELECT DISTINCT count(keyword.keyword) FROM keyword, publication, publication_keyword WHERE publication.title = \"Papers\" AND keyword.kid = publication_keyword.kid AND publication_keyword.pid = publication.pid',\n",
       " 'SELECT DISTINCT count(keyword.keyword) FROM keyword, publication, journal, publication_keyword WHERE publication.title = \"Papers\" AND journal.name = \"PVLDB\" AND publication.reference_num > 100 AND keyword.kid = publication_keyword.kid AND publication_keyword.pid = publication.pid AND keyword.kid = publication_keyword.kid AND publication_keyword.pid = publication.pid AND publication.jid = journal.jid AND keyword.kid = publication_keyword.kid AND publication_keyword.pid = publication.pid',\n",
       " 'SELECT DISTINCT count(keyword.keyword) FROM keyword, publication, author, publication_keyword, domain_keyword, domain, domain_author WHERE publication.title = \"Papers\" AND author.name = \"H. V. Jagadish\" AND publication.reference_num > 10 AND keyword.kid = publication_keyword.kid AND publication_keyword.pid = publication.pid AND keyword.kid = domain_keyword.kid AND domain_keyword.did = domain.did AND domain.did = domain_author.did AND domain_author.aid = author.aid AND keyword.kid = publication_keyword.kid AND publication_keyword.pid = publication.pid',\n",
       " '',\n",
       " '',\n",
       " '',\n",
       " '',\n",
       " '',\n",
       " '',\n",
       " 'SELECT DISTINCT author.name, block_1.sum FROM author, organization, (SELECT sum(publication.citation_num) as sum FROM publication WHERE publication.title = \"Papers\") block_1 WHERE block_1.sum = total AND organization.name = \"University of Michigan\" AND author.oid = organization.oid',\n",
       " '',\n",
       " '',\n",
       " 'SELECT DISTINCT conference.name FROM conference, publication, author, writes WHERE publication.title = \"Papers\" AND author.name = \"H. V. Jagadish\" AND publication.reference_num > 10 AND conference.cid = publication.cid AND conference.cid = publication.cid AND publication.pid = writes.pid AND writes.aid = author.aid AND conference.cid = publication.cid',\n",
       " '',\n",
       " 'SELECT DISTINCT journal.name FROM journal, publication, author, writes WHERE publication.title = \"Papers\" AND author.name = \"H. V. Jagadish\" AND publication.reference_num > 10 AND journal.jid = publication.jid AND journal.jid = publication.jid AND publication.pid = writes.pid AND writes.aid = author.aid AND journal.jid = publication.jid',\n",
       " '',\n",
       " 'SELECT DISTINCT publication.title, max(publication.citation_num) FROM publication',\n",
       " 'SELECT DISTINCT publication.title, max(domain.name) FROM publication',\n",
       " 'SELECT DISTINCT publication.title, max(publication.citation_num) FROM publication, journal WHERE journal.name = \"PVLDB\" AND publication.jid = journal.jid',\n",
       " 'SELECT DISTINCT publication.title, max(conference.name) FROM publication',\n",
       " 'SELECT DISTINCT publication.title, max(publication.citation_num) FROM publication, author, writes WHERE author.name = \"H. V. Jagadish\" AND publication.pid = writes.pid AND writes.aid = author.aid',\n",
       " 'SELECT DISTINCT publication.title, max(publication.citation_num) FROM publication WHERE publication.citation_num > 2000',\n",
       " 'SELECT DISTINCT publication.title, max(domain.name) FROM publication WHERE publication.year > 2000',\n",
       " '',\n",
       " 'SELECT DISTINCT publication.title, max(conference.name) FROM publication WHERE publication.year > 2000',\n",
       " 'SELECT DISTINCT author.name FROM author, publication, journal, writes WHERE publication.title = \"Papers\" AND journal.name = \"PVLDB\" AND publication.reference_num > 10 AND author.aid = writes.aid AND writes.pid = publication.pid AND author.aid = writes.aid AND writes.pid = publication.pid AND publication.jid = journal.jid AND author.aid = writes.aid AND writes.pid = publication.pid',\n",
       " '',\n",
       " 'SELECT DISTINCT author.name FROM author, publication, writes WHERE publication.title = \"Papers\" AND publication.title = \"Relational Database\" AND author.aid = writes.aid AND writes.pid = publication.pid AND author.aid = writes.aid AND writes.pid = publication.pid',\n",
       " 'SELECT DISTINCT conference.name FROM conference, publication WHERE publication.title = \"Papers\" AND publication.title = \"Relational Database\" AND conference.cid = publication.cid AND conference.cid = publication.cid',\n",
       " 'SELECT DISTINCT journal.name FROM journal, publication WHERE publication.title = \"Papers\" AND publication.title = \"Relational Database\" AND journal.jid = publication.jid AND journal.jid = publication.jid',\n",
       " 'SELECT DISTINCT keyword.keyword FROM keyword, publication, publication_keyword WHERE publication.title = \"Papers\" AND keyword.kid = publication_keyword.kid AND publication_keyword.pid = publication.pid',\n",
       " 'SELECT DISTINCT keyword.keyword FROM keyword, publication, journal, publication_keyword WHERE publication.title = \"Papers\" AND journal.name = \"PVLDB\" AND publication.reference_num > 100 AND keyword.kid = publication_keyword.kid AND publication_keyword.pid = publication.pid AND keyword.kid = publication_keyword.kid AND publication_keyword.pid = publication.pid AND publication.jid = journal.jid AND keyword.kid = publication_keyword.kid AND publication_keyword.pid = publication.pid',\n",
       " 'SELECT DISTINCT keyword.keyword FROM keyword, publication, author, publication_keyword, domain_keyword, domain, domain_author WHERE publication.title = \"Papers\" AND author.name = \"H. V. Jagadish\" AND publication.reference_num > 10 AND keyword.kid = publication_keyword.kid AND publication_keyword.pid = publication.pid AND keyword.kid = domain_keyword.kid AND domain_keyword.did = domain.did AND domain.did = domain_author.did AND domain_author.aid = author.aid AND keyword.kid = publication_keyword.kid AND publication_keyword.pid = publication.pid',\n",
       " 'SELECT DISTINCT author.name FROM author, publication, writes WHERE publication.title = \"Papers\" AND author.aid = writes.aid AND writes.pid = publication.pid',\n",
       " '',\n",
       " '',\n",
       " '']"
      ]
     },
     "metadata": {},
     "execution_count": 17
    }
   ],
   "source": [
    "sql_queries"
   ]
  },
  {
   "cell_type": "markdown",
   "metadata": {},
   "source": [
    " ## Teste você mesmo !"
   ]
  },
  {
   "cell_type": "code",
   "execution_count": 18,
   "metadata": {},
   "outputs": [
    {
     "output_type": "execute_result",
     "data": {
      "text/plain": [
       "'SELECT DISTINCT organization.name FROM organization, domain, author, domain_author WHERE domain.name = \"Databases\" AND organization.oid = author.oid AND author.aid = domain_author.aid AND domain_author.did = domain.did'"
      ]
     },
     "metadata": {},
     "execution_count": 18
    }
   ],
   "source": [
    "query = 'return me all the organizations in Databases area.' # ponha sua consulta aqui\n",
    "run_query(query, rdbms, config)"
   ]
  },
  {
   "cell_type": "code",
   "execution_count": null,
   "metadata": {},
   "outputs": [],
   "source": []
  }
 ],
 "metadata": {
  "jupytext": {
   "text_representation": {
    "extension": ".md",
    "format_name": "markdown",
    "format_version": "1.2",
    "jupytext_version": "1.4.2"
   }
  },
  "kernelspec": {
   "name": "Python 3.8.5 64-bit",
   "display_name": "Python 3.8.5 64-bit",
   "metadata": {
    "interpreter": {
     "hash": "31f2aee4e71d21fbe5cf8b01ff0e069b9275f58929596ceb00d14d90e3e16cd6"
    }
   }
  },
  "language_info": {
   "codemirror_mode": {
    "name": "ipython",
    "version": 3
   },
   "file_extension": ".py",
   "mimetype": "text/x-python",
   "name": "python",
   "nbconvert_exporter": "python",
   "pygments_lexer": "ipython3",
   "version": "3.8.5-final"
  },
  "toc": {
   "base_numbering": 1,
   "nav_menu": {},
   "number_sections": true,
   "sideBar": true,
   "skip_h1_title": false,
   "title_cell": "Table of Contents",
   "title_sidebar": "Contents",
   "toc_cell": false,
   "toc_position": {},
   "toc_section_display": true,
   "toc_window_display": false
  }
 },
 "nbformat": 4,
 "nbformat_minor": 4
}